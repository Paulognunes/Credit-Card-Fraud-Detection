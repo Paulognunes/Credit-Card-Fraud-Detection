{
 "cells": [
  {
   "cell_type": "markdown",
   "id": "d1f92e3a",
   "metadata": {},
   "source": [
    "# <font color='red' style='font-size: 30px;'> Detecção de Fraudes no Cartão de Crédito</font>\n",
    "<hr style='border: 2px solid red;'>"
   ]
  },
  {
   "cell_type": "markdown",
   "id": "3a03af91",
   "metadata": {},
   "source": [
    "\n",
    "## <font color = 'black' style='font-size: 26px;'> Contextualização </font>  \n",
    "<hr style = 'border: 1.5px solid black;'>"
   ]
  },
  {
   "cell_type": "markdown",
   "id": "68cdc6ee",
   "metadata": {},
   "source": [
    "<p style='line-height: 2; text-align: justify; text-indent: 35px;'> A popularização da internet revolucionou, em todos os âmbitos, o modo de vida do ser humano. O mundo tornou-se “pequeno” mediante a nossa capacidade de conexão utilizando a internet. Dentre todos os setores, o comércio certamente foi o que mais necessitou se reinventar para adequar-se às novas tecnologias. Lojas físicas de produtos tornaram-se “ultrapassadas”, serviços bancários tornaram-se essencialmente onlines, o número de importações negociadas direto com o fabricante (AliExpress, Alibaba, Made in China) cresceu exponencialmente na última década. Toda essa globalização, só foi possível devido a popularização e integração da internet na vida do ser humano.</p>\n",
    "\n",
    "<p style='line-height: 2; text-align: justify; text-indent: 35px;'>No entanto, essa intensa exposição nos meios virtuais trouxe consigo uma infinidade de problemas. Entre eles, o eminente aumento de crimes virtuais, como o de phishing e roubo de sessão, que tem como objetivo o roubo de informações sigilosas dos usuários, como documentos pessoais e cartões de crédito.</p>"
   ]
  },
  {
   "cell_type": "markdown",
   "id": "ec3f5c54",
   "metadata": {},
   "source": [
    "# <font color = 'black' style='font-size: 26px;'> Problema </font>  \n",
    "<hr style = 'border: 1.5px solid black;'>"
   ]
  },
  {
   "cell_type": "markdown",
   "id": "bcf2ef43",
   "metadata": {},
   "source": [
    "<p style='line-height: 2; text-align: justify; text-indent: 35px;'> Diante desse cenário, é nítido a necessidade dos bancos de implementarem sistemas preventivos capazes de detectar possíveis transações suspeitas, protegendo tanto o usuário quanto a instituição financeira de prejuízos. Portanto, o objetivo deste notebook é criar esse sistema, utilizando uma abordagem de aprendizado de máquinas supervisionado para resolver esse problema de classificação.</p>"
   ]
  },
  {
   "cell_type": "markdown",
   "id": "d35bbd75",
   "metadata": {},
   "source": [
    "# <font color = 'black' style='font-size: 26px;'> Material de Apoio </font>  \n",
    "<hr style = 'border: 1.5px solid black;'>"
   ]
  },
  {
   "cell_type": "markdown",
   "id": "4ee139b2",
   "metadata": {},
   "source": [
    "<p style='line-height: 2; text-align: justify; text-indent: 35px;'> Por ser um dos problemas clássicos de machine learning, existem uma infinidade de artigos e materiais didáticos sobre o assunto. Para este projeto, será utilizado os seguintes artigos:</p>\n",
    "\n",
    "<ul>\n",
    "    <ul>\n",
    "         <li style='line-height: 2; text-align: justify; list-style-type: disc;'><a href='https://arxiv.org/pdf/1904.10604.pdf'>[1] NIU, Xuetong; WANG, Li; YANG, Xulei. A comparison study of credit card fraud detection: Supervised versus unsupervised. arXiv preprint arXiv:1904.10604, 2019..</a></li>\n",
    "        <li style='line-height: 2; text-align: justify; list-style-type: disc;'><a href='https://www.researchgate.net/profile/Marko-Arsenovic/publication/333229231_Credit_Card_Fraud_Detection_-_Machine_Learning_methods/links/5da33b2d92851c6b4bd33833/Credit-Card-Fraud-Detection-Machine-Learning-methods.pdf'>[2] VARMEDJA, Dejan et al. Credit card fraud detection-machine learning methods. In: 2019 18th International Symposium INFOTEH-JAHORINA (INFOTEH). IEEE, 2019. p. 1-5.</a></li>\n",
    "    </ul>\n",
    "</ul>\n",
    "\n",
    "<p style='line-height: 2; text-align: justify; text-indent: 35px;'> Os autores desses dois artigos utilizaram a mesma base de dados desse projeto. Assim, é possível comparar as metodologias empregadas e os resultados obtidos. </p>"
   ]
  },
  {
   "cell_type": "markdown",
   "id": "33e2fd72",
   "metadata": {},
   "source": [
    "<p style='line-height: 2; text-align: justify; text-indent: 35px;'> A base de dados a ser utilizada foi retirada da plataforma Kaggle. Nesse ambiente, os programadores podem disponibilizar seus projetos para que outros membros da comunidade avaliem e utilizem-os como baseline. Assim, neste trabalho, será utilizado como material de apoio os três notebooks mais votados da base de dados utilizada, sendo eles:</p>\n",
    "\n",
    "<ul>\n",
    "    <ul>\n",
    "        <li style='line-height: 2; text-align: justify; list-style-type: disc;'><a href='https://www.kaggle.com/code/janiobachmann/credit-fraud-dealing-with-imbalanced-datasets'>Credit Fraud || Dealing with Imbalanced Datasets</a></li>\n",
    "        <li  style='line-height: 2; text-align: justify; list-style-type: disc;'><a href='https://www.kaggle.com/code/nareshbhat/outlier-the-silent-killer'>Outlier!!! The Silent Killer</a></li>\n",
    "        <li  style='line-height: 2; text-align: justify; list-style-type: disc;'><a href='https://www.kaggle.com/code/joparga3/in-depth-skewed-data-classif-93-recall-acc-now'>In depth skewed data classif. (93% recall acc now)</a></li>\n",
    "    </ul>\n",
    "</ul>\n"
   ]
  },
  {
   "cell_type": "markdown",
   "id": "a30c55e2",
   "metadata": {},
   "source": [
    "# <font color = 'black' style='font-size: 26px;'> Bibliotecas Utilizadas </font>  \n",
    "<hr style = 'border: 1.5px solid black;'>"
   ]
  },
  {
   "cell_type": "code",
   "execution_count": 1,
   "id": "235dc256",
   "metadata": {},
   "outputs": [],
   "source": [
    "# Imports\n",
    "from functions import cross_validation, save_with_pickle, load_with_pickle, calculate_metrics, plot_confusion_matrix\n",
    "import pandas as pd\n",
    "import seaborn as sns\n",
    "import numpy as np\n",
    "import pickle\n",
    "import matplotlib.pyplot as plt\n",
    "from imblearn.over_sampling import SMOTE\n",
    "from xgboost import XGBClassifier\n",
    "from imblearn.pipeline import make_pipeline\n",
    "from sklearn.preprocessing import RobustScaler, StandardScaler\n",
    "from sklearn.model_selection import train_test_split, GridSearchCV, StratifiedKFold, learning_curve, LearningCurveDisplay\n",
    "from sklearn.ensemble import RandomForestClassifier\n",
    "from sklearn.neural_network import MLPClassifier\n",
    "from sklearn.linear_model import LogisticRegression\n",
    "from sklearn.metrics import (precision_score, recall_score, f1_score, accuracy_score, confusion_matrix, \n",
    "                             classification_report, roc_curve, roc_auc_score, make_scorer)"
   ]
  },
  {
   "cell_type": "code",
   "execution_count": 2,
   "id": "be5515d5",
   "metadata": {},
   "outputs": [],
   "source": [
    "# Semente utilizada \n",
    "SEED = 13\n",
    "\n",
    "# Variável para \n",
    "EXECUTAR = False"
   ]
  },
  {
   "cell_type": "markdown",
   "id": "eb9bb85c",
   "metadata": {},
   "source": [
    "# <font color = 'black' style='font-size: 26px;'> Base de Dados </font>  \n",
    "<hr style = 'border: 1.5px solid black;'>"
   ]
  },
  {
   "cell_type": "markdown",
   "id": "976b4cc3",
   "metadata": {},
   "source": [
    "<p style='line-height: 2; text-align: justify; text-indent: 35px;'> Quando o assunto é ciência de dados, é quase impossível não citar o Kaggle. O Kaggle é uma plataforma com objetivo de promover o ensino, a discussão e o engajamento na área de ciência de dados. Dentre os diversos recursos disponíveis no site, tem-se uma infinidade de bases de dados, não só públicas mas também de empresas privadas, sobre os mais diversos temas.</p>\n",
    "\n",
    "<p style='line-height: 2; text-align: justify; text-indent: 35px;'>Portanto, a base de dados usada foi retirada dessa plataforma, denominada <a href='https://www.kaggle.com/datasets/mlg-ulb/creditcardfraud'> Credit Card Fraud Detection</a>. O conjunto de dados contém transações feitas por cartões de crédito em setembro de 2013 por titulares de cartões europeus. Os dados correspondem a transações ocorridas em dois dias, onde tem-se 492 fraudes em 284.807 transações. O dataset é altamente desbalanceado pois a classe positiva (fraudes) corresponde a 0,172% de todas as transações. Além disso, todas as informações sensíveis dos usuários foram ocultadas pela aplicação do PCA. Assim, as únicas informações que estão em sua forma explícita, passíveis de interpretação, são: </p><p></p>\n",
    "\n",
    "<ul>\n",
    "    <ul>\n",
    "        <li style='line-height: 2; text-align: justify; list-style-type: disc;'>Time: tempo decorrido, em segundos, desde a primeira transação do dataset;</li>\n",
    "        <li style='line-height: 2; text-align: justify; list-style-type: disc;'>Amount: valor da transação;</li>\n",
    "        <li style='line-height: 2; text-align: justify; list-style-type: disc;'>Class: variável de resposta dos dados, assumindo valor 1 em caso de fraude e 0 caso contrário.    \n",
    "    </ul>\n",
    "</ul>"
   ]
  },
  {
   "cell_type": "code",
   "execution_count": 3,
   "id": "9948830f",
   "metadata": {},
   "outputs": [
    {
     "data": {
      "text/html": [
       "<div>\n",
       "<style scoped>\n",
       "    .dataframe tbody tr th:only-of-type {\n",
       "        vertical-align: middle;\n",
       "    }\n",
       "\n",
       "    .dataframe tbody tr th {\n",
       "        vertical-align: top;\n",
       "    }\n",
       "\n",
       "    .dataframe thead th {\n",
       "        text-align: right;\n",
       "    }\n",
       "</style>\n",
       "<table border=\"1\" class=\"dataframe\">\n",
       "  <thead>\n",
       "    <tr style=\"text-align: right;\">\n",
       "      <th></th>\n",
       "      <th>Time</th>\n",
       "      <th>V1</th>\n",
       "      <th>V2</th>\n",
       "      <th>V3</th>\n",
       "      <th>V4</th>\n",
       "      <th>V5</th>\n",
       "      <th>V6</th>\n",
       "      <th>V7</th>\n",
       "      <th>V8</th>\n",
       "      <th>V9</th>\n",
       "      <th>...</th>\n",
       "      <th>V21</th>\n",
       "      <th>V22</th>\n",
       "      <th>V23</th>\n",
       "      <th>V24</th>\n",
       "      <th>V25</th>\n",
       "      <th>V26</th>\n",
       "      <th>V27</th>\n",
       "      <th>V28</th>\n",
       "      <th>Amount</th>\n",
       "      <th>Class</th>\n",
       "    </tr>\n",
       "  </thead>\n",
       "  <tbody>\n",
       "    <tr>\n",
       "      <th>0</th>\n",
       "      <td>0.0</td>\n",
       "      <td>-1.3598</td>\n",
       "      <td>-0.0728</td>\n",
       "      <td>2.5363</td>\n",
       "      <td>1.3782</td>\n",
       "      <td>-0.3383</td>\n",
       "      <td>0.4624</td>\n",
       "      <td>0.2396</td>\n",
       "      <td>0.0987</td>\n",
       "      <td>0.3638</td>\n",
       "      <td>...</td>\n",
       "      <td>-0.0183</td>\n",
       "      <td>0.2778</td>\n",
       "      <td>-0.1105</td>\n",
       "      <td>0.0669</td>\n",
       "      <td>0.1285</td>\n",
       "      <td>-0.1891</td>\n",
       "      <td>0.1336</td>\n",
       "      <td>-0.0211</td>\n",
       "      <td>149.62</td>\n",
       "      <td>0</td>\n",
       "    </tr>\n",
       "    <tr>\n",
       "      <th>1</th>\n",
       "      <td>0.0</td>\n",
       "      <td>1.1919</td>\n",
       "      <td>0.2662</td>\n",
       "      <td>0.1665</td>\n",
       "      <td>0.4482</td>\n",
       "      <td>0.0600</td>\n",
       "      <td>-0.0824</td>\n",
       "      <td>-0.0788</td>\n",
       "      <td>0.0851</td>\n",
       "      <td>-0.2554</td>\n",
       "      <td>...</td>\n",
       "      <td>-0.2258</td>\n",
       "      <td>-0.6387</td>\n",
       "      <td>0.1013</td>\n",
       "      <td>-0.3398</td>\n",
       "      <td>0.1672</td>\n",
       "      <td>0.1259</td>\n",
       "      <td>-0.0090</td>\n",
       "      <td>0.0147</td>\n",
       "      <td>2.69</td>\n",
       "      <td>0</td>\n",
       "    </tr>\n",
       "    <tr>\n",
       "      <th>2</th>\n",
       "      <td>1.0</td>\n",
       "      <td>-1.3584</td>\n",
       "      <td>-1.3402</td>\n",
       "      <td>1.7732</td>\n",
       "      <td>0.3798</td>\n",
       "      <td>-0.5032</td>\n",
       "      <td>1.8005</td>\n",
       "      <td>0.7915</td>\n",
       "      <td>0.2477</td>\n",
       "      <td>-1.5147</td>\n",
       "      <td>...</td>\n",
       "      <td>0.2480</td>\n",
       "      <td>0.7717</td>\n",
       "      <td>0.9094</td>\n",
       "      <td>-0.6893</td>\n",
       "      <td>-0.3276</td>\n",
       "      <td>-0.1391</td>\n",
       "      <td>-0.0554</td>\n",
       "      <td>-0.0598</td>\n",
       "      <td>378.66</td>\n",
       "      <td>0</td>\n",
       "    </tr>\n",
       "  </tbody>\n",
       "</table>\n",
       "<p>3 rows × 31 columns</p>\n",
       "</div>"
      ],
      "text/plain": [
       "   Time      V1      V2      V3      V4      V5      V6      V7      V8  \\\n",
       "0   0.0 -1.3598 -0.0728  2.5363  1.3782 -0.3383  0.4624  0.2396  0.0987   \n",
       "1   0.0  1.1919  0.2662  0.1665  0.4482  0.0600 -0.0824 -0.0788  0.0851   \n",
       "2   1.0 -1.3584 -1.3402  1.7732  0.3798 -0.5032  1.8005  0.7915  0.2477   \n",
       "\n",
       "       V9  ...     V21     V22     V23     V24     V25     V26     V27  \\\n",
       "0  0.3638  ... -0.0183  0.2778 -0.1105  0.0669  0.1285 -0.1891  0.1336   \n",
       "1 -0.2554  ... -0.2258 -0.6387  0.1013 -0.3398  0.1672  0.1259 -0.0090   \n",
       "2 -1.5147  ...  0.2480  0.7717  0.9094 -0.6893 -0.3276 -0.1391 -0.0554   \n",
       "\n",
       "      V28  Amount  Class  \n",
       "0 -0.0211  149.62      0  \n",
       "1  0.0147    2.69      0  \n",
       "2 -0.0598  378.66      0  \n",
       "\n",
       "[3 rows x 31 columns]"
      ]
     },
     "execution_count": 3,
     "metadata": {},
     "output_type": "execute_result"
    }
   ],
   "source": [
    "# Importando o dataset\n",
    "dataset = pd.read_csv('../Dados/creditcard.csv').round(4)\n",
    "dataset.head(3)"
   ]
  },
  {
   "cell_type": "markdown",
   "id": "81347430",
   "metadata": {},
   "source": [
    "# <font color = 'black' style='font-size: 26px;'> Limpeza e Tratamento dos Dados</font>  \n",
    "<hr style = 'border: 1.5px solid black;'>"
   ]
  },
  {
   "cell_type": "markdown",
   "id": "b8a84225",
   "metadata": {},
   "source": [
    "<p style='line-height: 2; text-align: justify; text-indent: 35px;'> A etapa de limpeza e tratamento dos dados é uma das mais essenciais em qualquer projeto de machine learning. É nesse estágio que verifica-se se os tipos dos dados estão corretos, se há valores faltantes e/ou linhas duplicadas. Dito isso, as próximas linhas de código estão focadas em realizar esse data cleaning, para que o modelo de aprendizado de máquinas criado, posteriormente, apresente um melhor desempenho. </p>"
   ]
  },
  {
   "cell_type": "code",
   "execution_count": 4,
   "id": "c706ff0e",
   "metadata": {},
   "outputs": [
    {
     "name": "stdout",
     "output_type": "stream",
     "text": [
      "Quantidade de linhas duplicadas : 1081\n"
     ]
    }
   ],
   "source": [
    "# Quantidade de linhas duplicadas\n",
    "print(f'Quantidade de linhas duplicadas : {dataset.duplicated().sum()}')"
   ]
  },
  {
   "cell_type": "code",
   "execution_count": 5,
   "id": "1472e9cc",
   "metadata": {},
   "outputs": [
    {
     "name": "stdout",
     "output_type": "stream",
     "text": [
      "Quantidade de Valores Faltantes: 0\n"
     ]
    }
   ],
   "source": [
    "# Removendo Duplicatas\n",
    "dataset.drop_duplicates(inplace=True)\n",
    "\n",
    "# Contagem dos \"Valores Faltantes\" nas features\n",
    "print(f'Quantidade de Valores Faltantes: {dataset.isnull().sum().max()}')"
   ]
  },
  {
   "cell_type": "code",
   "execution_count": 6,
   "id": "5582a5a9",
   "metadata": {},
   "outputs": [
    {
     "data": {
      "text/plain": [
       "Time      float64\n",
       "V1        float64\n",
       "V2        float64\n",
       "V3        float64\n",
       "V4        float64\n",
       "V5        float64\n",
       "V6        float64\n",
       "V7        float64\n",
       "V8        float64\n",
       "V9        float64\n",
       "V10       float64\n",
       "V11       float64\n",
       "V12       float64\n",
       "V13       float64\n",
       "V14       float64\n",
       "V15       float64\n",
       "V16       float64\n",
       "V17       float64\n",
       "V18       float64\n",
       "V19       float64\n",
       "V20       float64\n",
       "V21       float64\n",
       "V22       float64\n",
       "V23       float64\n",
       "V24       float64\n",
       "V25       float64\n",
       "V26       float64\n",
       "V27       float64\n",
       "V28       float64\n",
       "Amount    float64\n",
       "Class       int64\n",
       "dtype: object"
      ]
     },
     "execution_count": 6,
     "metadata": {},
     "output_type": "execute_result"
    }
   ],
   "source": [
    "# Tipo dos dados\n",
    "dataset.dtypes"
   ]
  },
  {
   "cell_type": "markdown",
   "id": "4f0088c2",
   "metadata": {},
   "source": [
    "# <font color = 'black' style='font-size: 26px;'> Análise Exploratória </font>  \n",
    "<hr style = 'border: 1.5px solid black;'>"
   ]
  },
  {
   "cell_type": "markdown",
   "id": "9f861411",
   "metadata": {},
   "source": [
    "## Estatísticas Descritivas\n",
    "---"
   ]
  },
  {
   "cell_type": "markdown",
   "id": "66825b8d",
   "metadata": {},
   "source": [
    "<p style='line-height: 2; text-align: justify; text-indent: 35px;'> As features V1 à V28  são o resultado da aplicação do PCA (Principal Component Analysis) com o objetivo de reduzir a dimensionalidade dos dados. Conforme citado nas informações do dataset, o PCA foi aplicado para ocultar as informações sensíveis dos clientes. Assim, a princípio, não é possível analisar ou extrair qualquer informação explicitamente desses dados. </p>"
   ]
  },
  {
   "cell_type": "markdown",
   "id": "e7aec2eb",
   "metadata": {},
   "source": [
    "<p style='line-height: 2; text-align: justify; text-indent: 35px;'> Analisando as descrições estatísticas da feature “Amount”, nota-se que há uma grande heterogeneidade, pois o desvio-padrão é próximo de 250. Assim, é necessário investigar se esse alto valor de desvio-padrão é causado por outlier ou apenas por uma distribuição irregular.  </p>"
   ]
  },
  {
   "cell_type": "code",
   "execution_count": 7,
   "id": "a4e1fb56",
   "metadata": {},
   "outputs": [
    {
     "data": {
      "text/html": [
       "<div>\n",
       "<style scoped>\n",
       "    .dataframe tbody tr th:only-of-type {\n",
       "        vertical-align: middle;\n",
       "    }\n",
       "\n",
       "    .dataframe tbody tr th {\n",
       "        vertical-align: top;\n",
       "    }\n",
       "\n",
       "    .dataframe thead th {\n",
       "        text-align: right;\n",
       "    }\n",
       "</style>\n",
       "<table border=\"1\" class=\"dataframe\">\n",
       "  <thead>\n",
       "    <tr style=\"text-align: right;\">\n",
       "      <th></th>\n",
       "      <th>Time</th>\n",
       "      <th>V1</th>\n",
       "      <th>V2</th>\n",
       "      <th>V3</th>\n",
       "      <th>V4</th>\n",
       "      <th>V5</th>\n",
       "      <th>V6</th>\n",
       "      <th>V7</th>\n",
       "      <th>V8</th>\n",
       "      <th>V9</th>\n",
       "      <th>...</th>\n",
       "      <th>V21</th>\n",
       "      <th>V22</th>\n",
       "      <th>V23</th>\n",
       "      <th>V24</th>\n",
       "      <th>V25</th>\n",
       "      <th>V26</th>\n",
       "      <th>V27</th>\n",
       "      <th>V28</th>\n",
       "      <th>Amount</th>\n",
       "      <th>Class</th>\n",
       "    </tr>\n",
       "  </thead>\n",
       "  <tbody>\n",
       "    <tr>\n",
       "      <th>count</th>\n",
       "      <td>283726.00</td>\n",
       "      <td>283726.00</td>\n",
       "      <td>283726.00</td>\n",
       "      <td>283726.00</td>\n",
       "      <td>283726.00</td>\n",
       "      <td>283726.00</td>\n",
       "      <td>283726.00</td>\n",
       "      <td>283726.00</td>\n",
       "      <td>283726.00</td>\n",
       "      <td>283726.00</td>\n",
       "      <td>...</td>\n",
       "      <td>283726.00</td>\n",
       "      <td>283726.00</td>\n",
       "      <td>283726.00</td>\n",
       "      <td>283726.00</td>\n",
       "      <td>283726.00</td>\n",
       "      <td>283726.00</td>\n",
       "      <td>283726.00</td>\n",
       "      <td>283726.00</td>\n",
       "      <td>283726.00</td>\n",
       "      <td>283726.00</td>\n",
       "    </tr>\n",
       "    <tr>\n",
       "      <th>mean</th>\n",
       "      <td>94811.08</td>\n",
       "      <td>0.01</td>\n",
       "      <td>-0.00</td>\n",
       "      <td>0.00</td>\n",
       "      <td>-0.00</td>\n",
       "      <td>0.00</td>\n",
       "      <td>-0.00</td>\n",
       "      <td>0.00</td>\n",
       "      <td>-0.00</td>\n",
       "      <td>-0.00</td>\n",
       "      <td>...</td>\n",
       "      <td>-0.00</td>\n",
       "      <td>-0.00</td>\n",
       "      <td>0.00</td>\n",
       "      <td>0.00</td>\n",
       "      <td>-0.00</td>\n",
       "      <td>0.00</td>\n",
       "      <td>0.00</td>\n",
       "      <td>0.00</td>\n",
       "      <td>88.47</td>\n",
       "      <td>0.00</td>\n",
       "    </tr>\n",
       "    <tr>\n",
       "      <th>std</th>\n",
       "      <td>47481.05</td>\n",
       "      <td>1.95</td>\n",
       "      <td>1.65</td>\n",
       "      <td>1.51</td>\n",
       "      <td>1.41</td>\n",
       "      <td>1.38</td>\n",
       "      <td>1.33</td>\n",
       "      <td>1.23</td>\n",
       "      <td>1.18</td>\n",
       "      <td>1.10</td>\n",
       "      <td>...</td>\n",
       "      <td>0.72</td>\n",
       "      <td>0.72</td>\n",
       "      <td>0.62</td>\n",
       "      <td>0.61</td>\n",
       "      <td>0.52</td>\n",
       "      <td>0.48</td>\n",
       "      <td>0.40</td>\n",
       "      <td>0.33</td>\n",
       "      <td>250.40</td>\n",
       "      <td>0.04</td>\n",
       "    </tr>\n",
       "    <tr>\n",
       "      <th>min</th>\n",
       "      <td>0.00</td>\n",
       "      <td>-56.41</td>\n",
       "      <td>-72.72</td>\n",
       "      <td>-48.33</td>\n",
       "      <td>-5.68</td>\n",
       "      <td>-113.74</td>\n",
       "      <td>-26.16</td>\n",
       "      <td>-43.56</td>\n",
       "      <td>-73.22</td>\n",
       "      <td>-13.43</td>\n",
       "      <td>...</td>\n",
       "      <td>-34.83</td>\n",
       "      <td>-10.93</td>\n",
       "      <td>-44.81</td>\n",
       "      <td>-2.84</td>\n",
       "      <td>-10.30</td>\n",
       "      <td>-2.60</td>\n",
       "      <td>-22.57</td>\n",
       "      <td>-15.43</td>\n",
       "      <td>0.00</td>\n",
       "      <td>0.00</td>\n",
       "    </tr>\n",
       "    <tr>\n",
       "      <th>25%</th>\n",
       "      <td>54204.75</td>\n",
       "      <td>-0.92</td>\n",
       "      <td>-0.60</td>\n",
       "      <td>-0.89</td>\n",
       "      <td>-0.85</td>\n",
       "      <td>-0.69</td>\n",
       "      <td>-0.77</td>\n",
       "      <td>-0.55</td>\n",
       "      <td>-0.21</td>\n",
       "      <td>-0.64</td>\n",
       "      <td>...</td>\n",
       "      <td>-0.23</td>\n",
       "      <td>-0.54</td>\n",
       "      <td>-0.16</td>\n",
       "      <td>-0.35</td>\n",
       "      <td>-0.32</td>\n",
       "      <td>-0.33</td>\n",
       "      <td>-0.07</td>\n",
       "      <td>-0.05</td>\n",
       "      <td>5.60</td>\n",
       "      <td>0.00</td>\n",
       "    </tr>\n",
       "    <tr>\n",
       "      <th>50%</th>\n",
       "      <td>84692.50</td>\n",
       "      <td>0.02</td>\n",
       "      <td>0.06</td>\n",
       "      <td>0.18</td>\n",
       "      <td>-0.02</td>\n",
       "      <td>-0.05</td>\n",
       "      <td>-0.28</td>\n",
       "      <td>0.04</td>\n",
       "      <td>0.02</td>\n",
       "      <td>-0.05</td>\n",
       "      <td>...</td>\n",
       "      <td>-0.03</td>\n",
       "      <td>0.01</td>\n",
       "      <td>-0.01</td>\n",
       "      <td>0.04</td>\n",
       "      <td>0.02</td>\n",
       "      <td>-0.05</td>\n",
       "      <td>0.00</td>\n",
       "      <td>0.01</td>\n",
       "      <td>22.00</td>\n",
       "      <td>0.00</td>\n",
       "    </tr>\n",
       "    <tr>\n",
       "      <th>75%</th>\n",
       "      <td>139298.00</td>\n",
       "      <td>1.32</td>\n",
       "      <td>0.80</td>\n",
       "      <td>1.03</td>\n",
       "      <td>0.74</td>\n",
       "      <td>0.61</td>\n",
       "      <td>0.40</td>\n",
       "      <td>0.57</td>\n",
       "      <td>0.33</td>\n",
       "      <td>0.60</td>\n",
       "      <td>...</td>\n",
       "      <td>0.19</td>\n",
       "      <td>0.53</td>\n",
       "      <td>0.15</td>\n",
       "      <td>0.44</td>\n",
       "      <td>0.35</td>\n",
       "      <td>0.24</td>\n",
       "      <td>0.09</td>\n",
       "      <td>0.08</td>\n",
       "      <td>77.51</td>\n",
       "      <td>0.00</td>\n",
       "    </tr>\n",
       "    <tr>\n",
       "      <th>max</th>\n",
       "      <td>172792.00</td>\n",
       "      <td>2.45</td>\n",
       "      <td>22.06</td>\n",
       "      <td>9.38</td>\n",
       "      <td>16.88</td>\n",
       "      <td>34.80</td>\n",
       "      <td>73.30</td>\n",
       "      <td>120.59</td>\n",
       "      <td>20.01</td>\n",
       "      <td>15.60</td>\n",
       "      <td>...</td>\n",
       "      <td>27.20</td>\n",
       "      <td>10.50</td>\n",
       "      <td>22.53</td>\n",
       "      <td>4.58</td>\n",
       "      <td>7.52</td>\n",
       "      <td>3.52</td>\n",
       "      <td>31.61</td>\n",
       "      <td>33.85</td>\n",
       "      <td>25691.16</td>\n",
       "      <td>1.00</td>\n",
       "    </tr>\n",
       "  </tbody>\n",
       "</table>\n",
       "<p>8 rows × 31 columns</p>\n",
       "</div>"
      ],
      "text/plain": [
       "            Time         V1         V2         V3         V4         V5  \\\n",
       "count  283726.00  283726.00  283726.00  283726.00  283726.00  283726.00   \n",
       "mean    94811.08       0.01      -0.00       0.00      -0.00       0.00   \n",
       "std     47481.05       1.95       1.65       1.51       1.41       1.38   \n",
       "min         0.00     -56.41     -72.72     -48.33      -5.68    -113.74   \n",
       "25%     54204.75      -0.92      -0.60      -0.89      -0.85      -0.69   \n",
       "50%     84692.50       0.02       0.06       0.18      -0.02      -0.05   \n",
       "75%    139298.00       1.32       0.80       1.03       0.74       0.61   \n",
       "max    172792.00       2.45      22.06       9.38      16.88      34.80   \n",
       "\n",
       "              V6         V7         V8         V9  ...        V21        V22  \\\n",
       "count  283726.00  283726.00  283726.00  283726.00  ...  283726.00  283726.00   \n",
       "mean       -0.00       0.00      -0.00      -0.00  ...      -0.00      -0.00   \n",
       "std         1.33       1.23       1.18       1.10  ...       0.72       0.72   \n",
       "min       -26.16     -43.56     -73.22     -13.43  ...     -34.83     -10.93   \n",
       "25%        -0.77      -0.55      -0.21      -0.64  ...      -0.23      -0.54   \n",
       "50%        -0.28       0.04       0.02      -0.05  ...      -0.03       0.01   \n",
       "75%         0.40       0.57       0.33       0.60  ...       0.19       0.53   \n",
       "max        73.30     120.59      20.01      15.60  ...      27.20      10.50   \n",
       "\n",
       "             V23        V24        V25        V26        V27        V28  \\\n",
       "count  283726.00  283726.00  283726.00  283726.00  283726.00  283726.00   \n",
       "mean        0.00       0.00      -0.00       0.00       0.00       0.00   \n",
       "std         0.62       0.61       0.52       0.48       0.40       0.33   \n",
       "min       -44.81      -2.84     -10.30      -2.60     -22.57     -15.43   \n",
       "25%        -0.16      -0.35      -0.32      -0.33      -0.07      -0.05   \n",
       "50%        -0.01       0.04       0.02      -0.05       0.00       0.01   \n",
       "75%         0.15       0.44       0.35       0.24       0.09       0.08   \n",
       "max        22.53       4.58       7.52       3.52      31.61      33.85   \n",
       "\n",
       "          Amount      Class  \n",
       "count  283726.00  283726.00  \n",
       "mean       88.47       0.00  \n",
       "std       250.40       0.04  \n",
       "min         0.00       0.00  \n",
       "25%         5.60       0.00  \n",
       "50%        22.00       0.00  \n",
       "75%        77.51       0.00  \n",
       "max     25691.16       1.00  \n",
       "\n",
       "[8 rows x 31 columns]"
      ]
     },
     "execution_count": 7,
     "metadata": {},
     "output_type": "execute_result"
    }
   ],
   "source": [
    "# Estatística do dataset\n",
    "dataset.describe().round(2)"
   ]
  },
  {
   "cell_type": "markdown",
   "id": "1a7a7a9f",
   "metadata": {},
   "source": [
    "## Correlações\n",
    "---"
   ]
  },
  {
   "cell_type": "markdown",
   "id": "5977aa4f",
   "metadata": {},
   "source": [
    "<p style='line-height: 2; text-align: justify; text-indent: 35px;'> Ao realizar a matriz de correlação do dataset, nota-se que as correlações significativas estão em torno das features “Time”, “Amount” e \"Class\". Ou seja, grande parte dos componentes do PCA tem alguma correlação, positiva ou negativa, fraca, moderada ou forte, com essas features. Além disso, vale salientar que as features V1 à V28 não possuem correlação entre si em virtude do PCA. Isso facilita o processo de aprendizado de alguns algoritmos de machine learning, corroborando no desempenho do modelo final. </p>"
   ]
  },
  {
   "cell_type": "code",
   "execution_count": 8,
   "id": "e123afde",
   "metadata": {
    "scrolled": false
   },
   "outputs": [
    {
     "data": {
      "image/png": "[encoded data removed]",
      "text/plain": [
       "<Figure size 700x600 with 2 Axes>"
      ]
     },
     "metadata": {},
     "output_type": "display_data"
    }
   ],
   "source": [
    "# heatmap da matrix de correlação\n",
    "fig, ax = plt.subplots(figsize=(7, 6))\n",
    "ax = sns.heatmap(dataset.corr(), vmin=-1, vmax=1, xticklabels=1, yticklabels=1, square=True)\n",
    "ax.set_title('Correlation Matrix', fontsize=14)\n",
    "plt.show()"
   ]
  },
  {
   "cell_type": "markdown",
   "id": "cfc99d19",
   "metadata": {},
   "source": [
    "<p style='line-height: 2; text-align: justify; text-indent: 35px;'> As melhores correlações encontradas são fracas (0  &le;   r &le; |0,3|) ou moderadas (|0,3| &le; r &le; |0,6|). Não há nenhuma correlação forte (|0,6|&le; r &le; |0,9|) ou muito forte (|0,9| &le; r &le; |1|) nos dados. Os maiores valores de correlações positivas e negativas são mostrados abaixo. </p>"
   ]
  },
  {
   "cell_type": "code",
   "execution_count": 9,
   "id": "7e40140a",
   "metadata": {},
   "outputs": [
    {
     "data": {
      "text/html": [
       "<div>\n",
       "<style scoped>\n",
       "    .dataframe tbody tr th:only-of-type {\n",
       "        vertical-align: middle;\n",
       "    }\n",
       "\n",
       "    .dataframe tbody tr th {\n",
       "        vertical-align: top;\n",
       "    }\n",
       "\n",
       "    .dataframe thead th {\n",
       "        text-align: right;\n",
       "    }\n",
       "</style>\n",
       "<table border=\"1\" class=\"dataframe\">\n",
       "  <thead>\n",
       "    <tr style=\"text-align: right;\">\n",
       "      <th></th>\n",
       "      <th>Max_Correlation</th>\n",
       "      <th>Min_Correlation</th>\n",
       "    </tr>\n",
       "  </thead>\n",
       "  <tbody>\n",
       "    <tr>\n",
       "      <th>Time</th>\n",
       "      <td>0.17</td>\n",
       "      <td>-0.42</td>\n",
       "    </tr>\n",
       "    <tr>\n",
       "      <th>V1</th>\n",
       "      <td>0.12</td>\n",
       "      <td>-0.23</td>\n",
       "    </tr>\n",
       "    <tr>\n",
       "      <th>V2</th>\n",
       "      <td>0.08</td>\n",
       "      <td>-0.53</td>\n",
       "    </tr>\n",
       "    <tr>\n",
       "      <th>V3</th>\n",
       "      <td>0.01</td>\n",
       "      <td>-0.42</td>\n",
       "    </tr>\n",
       "    <tr>\n",
       "      <th>V4</th>\n",
       "      <td>0.13</td>\n",
       "      <td>-0.11</td>\n",
       "    </tr>\n",
       "    <tr>\n",
       "      <th>V5</th>\n",
       "      <td>0.17</td>\n",
       "      <td>-0.39</td>\n",
       "    </tr>\n",
       "    <tr>\n",
       "      <th>V6</th>\n",
       "      <td>0.22</td>\n",
       "      <td>-0.06</td>\n",
       "    </tr>\n",
       "    <tr>\n",
       "      <th>V7</th>\n",
       "      <td>0.40</td>\n",
       "      <td>-0.17</td>\n",
       "    </tr>\n",
       "    <tr>\n",
       "      <th>V8</th>\n",
       "      <td>0.03</td>\n",
       "      <td>-0.10</td>\n",
       "    </tr>\n",
       "    <tr>\n",
       "      <th>V9</th>\n",
       "      <td>0.01</td>\n",
       "      <td>-0.09</td>\n",
       "    </tr>\n",
       "    <tr>\n",
       "      <th>V10</th>\n",
       "      <td>0.03</td>\n",
       "      <td>-0.21</td>\n",
       "    </tr>\n",
       "    <tr>\n",
       "      <th>V11</th>\n",
       "      <td>0.15</td>\n",
       "      <td>-0.25</td>\n",
       "    </tr>\n",
       "    <tr>\n",
       "      <th>V12</th>\n",
       "      <td>0.13</td>\n",
       "      <td>-0.25</td>\n",
       "    </tr>\n",
       "    <tr>\n",
       "      <th>V13</th>\n",
       "      <td>0.01</td>\n",
       "      <td>-0.07</td>\n",
       "    </tr>\n",
       "    <tr>\n",
       "      <th>V14</th>\n",
       "      <td>0.03</td>\n",
       "      <td>-0.29</td>\n",
       "    </tr>\n",
       "    <tr>\n",
       "      <th>V15</th>\n",
       "      <td>-0.00</td>\n",
       "      <td>-0.18</td>\n",
       "    </tr>\n",
       "    <tr>\n",
       "      <th>V16</th>\n",
       "      <td>0.01</td>\n",
       "      <td>-0.19</td>\n",
       "    </tr>\n",
       "    <tr>\n",
       "      <th>V17</th>\n",
       "      <td>0.01</td>\n",
       "      <td>-0.31</td>\n",
       "    </tr>\n",
       "    <tr>\n",
       "      <th>V18</th>\n",
       "      <td>0.09</td>\n",
       "      <td>-0.11</td>\n",
       "    </tr>\n",
       "    <tr>\n",
       "      <th>V19</th>\n",
       "      <td>0.03</td>\n",
       "      <td>-0.06</td>\n",
       "    </tr>\n",
       "    <tr>\n",
       "      <th>V20</th>\n",
       "      <td>0.34</td>\n",
       "      <td>-0.05</td>\n",
       "    </tr>\n",
       "    <tr>\n",
       "      <th>V21</th>\n",
       "      <td>0.11</td>\n",
       "      <td>-0.01</td>\n",
       "    </tr>\n",
       "    <tr>\n",
       "      <th>V22</th>\n",
       "      <td>0.14</td>\n",
       "      <td>-0.06</td>\n",
       "    </tr>\n",
       "    <tr>\n",
       "      <th>V23</th>\n",
       "      <td>0.05</td>\n",
       "      <td>-0.11</td>\n",
       "    </tr>\n",
       "    <tr>\n",
       "      <th>V24</th>\n",
       "      <td>0.01</td>\n",
       "      <td>-0.02</td>\n",
       "    </tr>\n",
       "    <tr>\n",
       "      <th>V25</th>\n",
       "      <td>0.00</td>\n",
       "      <td>-0.23</td>\n",
       "    </tr>\n",
       "    <tr>\n",
       "      <th>V26</th>\n",
       "      <td>0.00</td>\n",
       "      <td>-0.04</td>\n",
       "    </tr>\n",
       "    <tr>\n",
       "      <th>V27</th>\n",
       "      <td>0.03</td>\n",
       "      <td>-0.02</td>\n",
       "    </tr>\n",
       "    <tr>\n",
       "      <th>V28</th>\n",
       "      <td>0.01</td>\n",
       "      <td>-0.01</td>\n",
       "    </tr>\n",
       "    <tr>\n",
       "      <th>Amount</th>\n",
       "      <td>0.40</td>\n",
       "      <td>-0.53</td>\n",
       "    </tr>\n",
       "    <tr>\n",
       "      <th>Class</th>\n",
       "      <td>0.15</td>\n",
       "      <td>-0.31</td>\n",
       "    </tr>\n",
       "  </tbody>\n",
       "</table>\n",
       "</div>"
      ],
      "text/plain": [
       "        Max_Correlation  Min_Correlation\n",
       "Time               0.17            -0.42\n",
       "V1                 0.12            -0.23\n",
       "V2                 0.08            -0.53\n",
       "V3                 0.01            -0.42\n",
       "V4                 0.13            -0.11\n",
       "V5                 0.17            -0.39\n",
       "V6                 0.22            -0.06\n",
       "V7                 0.40            -0.17\n",
       "V8                 0.03            -0.10\n",
       "V9                 0.01            -0.09\n",
       "V10                0.03            -0.21\n",
       "V11                0.15            -0.25\n",
       "V12                0.13            -0.25\n",
       "V13                0.01            -0.07\n",
       "V14                0.03            -0.29\n",
       "V15               -0.00            -0.18\n",
       "V16                0.01            -0.19\n",
       "V17                0.01            -0.31\n",
       "V18                0.09            -0.11\n",
       "V19                0.03            -0.06\n",
       "V20                0.34            -0.05\n",
       "V21                0.11            -0.01\n",
       "V22                0.14            -0.06\n",
       "V23                0.05            -0.11\n",
       "V24                0.01            -0.02\n",
       "V25                0.00            -0.23\n",
       "V26                0.00            -0.04\n",
       "V27                0.03            -0.02\n",
       "V28                0.01            -0.01\n",
       "Amount             0.40            -0.53\n",
       "Class              0.15            -0.31"
      ]
     },
     "execution_count": 9,
     "metadata": {},
     "output_type": "execute_result"
    }
   ],
   "source": [
    "# Maior e Menor Correlação de cada Feature\n",
    "correlation = dataset.corr().round(2)\n",
    "correlation.replace(to_replace=1.000000, value=0, inplace=True)\n",
    "\n",
    "corr = pd.DataFrame()\n",
    "corr['Max_Correlation'] = correlation.max()\n",
    "corr['Min_Correlation'] = correlation.min()\n",
    "corr"
   ]
  },
  {
   "cell_type": "markdown",
   "id": "f41a9cef",
   "metadata": {},
   "source": [
    "## Visualização dos Dados\n",
    "---"
   ]
  },
  {
   "cell_type": "markdown",
   "id": "ed7da854",
   "metadata": {},
   "source": [
    "<p style='line-height: 2; text-align: justify; text-indent: 35px;'> A feature “Time” representa o tempo decorrido de cada transação em relação à primeira transação catalogada no conjunto de dados. O horário exato de cada transação não é informado. Os dados correspondem às transações efetuadas ao longo de dois dias. Assim, ao observar o histograma dessa feature, percebe-se que há uma periodicidade nos horários das transações. Espera-se que, em certos horários, haja um volume muito maior de transações, em comparação aos demais horários. Provavelmente, os horários de pico correspondem ao período de 12h às 22h, que é o período em que a população adulta encontra-se mais ativamente.  </p>"
   ]
  },
  {
   "cell_type": "code",
   "execution_count": 10,
   "id": "78b4d511",
   "metadata": {},
   "outputs": [
    {
     "data": {
      "image/png": "[encoded data removed]",
      "text/plain": [
       "<Figure size 600x400 with 1 Axes>"
      ]
     },
     "metadata": {},
     "output_type": "display_data"
    }
   ],
   "source": [
    "# Histograma da feature \"Time\"\n",
    "fig, ax = plt.subplots(figsize=(6, 4))\n",
    "ax = sns.histplot(dataset['Time'] / 3600, bins=48, kde=True)\n",
    "ax.set_title('Frequency Distribution - \"Time\"', fontsize=14)\n",
    "ax.set_xticks([6, 12, 18, 24, 30, 36, 42, 48])\n",
    "ax.set_xlabel('Elapsed Hours', fontsize=12)\n",
    "ax.set_ylabel('Count', fontsize=12)\n",
    "plt.show()"
   ]
  },
  {
   "cell_type": "markdown",
   "id": "5c336ca5",
   "metadata": {},
   "source": [
    "---"
   ]
  },
  {
   "cell_type": "markdown",
   "id": "55297d0f",
   "metadata": {},
   "source": [
    "<p style='line-height: 2; text-align: justify; text-indent: 35px;'> Para que seja possível visualizar graficamente o histograma dos valores das transações, é necessário transformar esses valores em logaritmos de base 10. Feito isso, observa-se que a distribuição dos valores está em torno de cinquenta a cem dólares. Assim, infere-se que transações casuais e cotidianas com em torno desses valores ocorrerão com maior frequência.</p> \n",
    "\n",
    "<p style='line-height: 2; text-align: justify; text-indent: 35px;'> Analogamente, pode-se deduzir que as transações com valores acima de mil dólares são fortes candidatos a outlier. Não quer dizer que essas informações estão erradas ou deturpadas. Mas sim que elas são casos anormais, atípicos, que não ocorrem com tanta frequência.</p>"
   ]
  },
  {
   "cell_type": "code",
   "execution_count": 11,
   "id": "4f2200bf",
   "metadata": {},
   "outputs": [
    {
     "data": {
      "image/png": "[encoded data removed]",
      "text/plain": [
       "<Figure size 800x500 with 1 Axes>"
      ]
     },
     "metadata": {},
     "output_type": "display_data"
    }
   ],
   "source": [
    "# Histograma da feature \"Amount\"\n",
    "fig, ax = plt.subplots(figsize=(8, 5))\n",
    "ax = sns.histplot(np.log10(dataset['Amount'] + 1), bins=75, kde=True)\n",
    "ax.set_title('Frequency Distribution - \"Amount\"', fontsize=14)\n",
    "ax.set_xlabel('Value of Transactions in Log10 (Dólar)', fontsize=12)\n",
    "ax.set_ylabel('Count', fontsize=12)\n",
    "plt.show()"
   ]
  },
  {
   "cell_type": "markdown",
   "id": "eb151c4d",
   "metadata": {},
   "source": [
    "---"
   ]
  },
  {
   "cell_type": "markdown",
   "id": "7c48b0bc",
   "metadata": {},
   "source": [
    "<p style='line-height: 2; text-align: justify; text-indent: 35px;'>Possivelmente, o maior desafio dessa base de dados está na desproporcionalidade das classes. Tem-se apenas 473 transações fraudulentas em 283.726 transações, correspondendo a 0,16% dos dados. Assim, é necessário aplicar o Oversampling ou Undersampling para o balanceamento das classes e, consequentemente, possibilitar o aprendizado do modelo.</p>\n",
    "\n",
    "<p style='line-height: 2; text-align: justify; text-indent: 35px;'>Nesse projeto, a aplicação do Undersampling é totalmente inviável pois perderia-se um gigantesco número de instâncias que poderiam ser usadas para o ajuste do modelo. Assim, resta-se aplicar o Oversampling. Algumas das possibilidades consistem em utilizar cópias exatas de algumas instâncias da classe minoritária (Random Oversampling) ou criar novas instâncias aproximadas (Synthetic Minority Oversampling Technique) dessa classe. </p>"
   ]
  },
  {
   "cell_type": "code",
   "execution_count": 12,
   "id": "6b9c334c",
   "metadata": {},
   "outputs": [
    {
     "data": {
      "text/plain": [
       "0    283253\n",
       "1       473\n",
       "Name: Class, dtype: int64"
      ]
     },
     "execution_count": 12,
     "metadata": {},
     "output_type": "execute_result"
    }
   ],
   "source": [
    "# Quantidade de instâncias de cada classe\n",
    "dataset['Class'].value_counts()"
   ]
  },
  {
   "cell_type": "code",
   "execution_count": 13,
   "id": "2a57e139",
   "metadata": {},
   "outputs": [
    {
     "data": {
      "image/png": "[encoded data removed]",
      "text/plain": [
       "<Figure size 400x400 with 1 Axes>"
      ]
     },
     "metadata": {},
     "output_type": "display_data"
    }
   ],
   "source": [
    "# Gráfico de Barras das Classes\n",
    "fig, ax = plt.subplots(figsize=(4, 4))\n",
    "ax = sns.countplot(x='Class', data=dataset, width=0.5)\n",
    "ax.set_title('Transactions Distribution', fontsize=14)\n",
    "ax.set_ylabel('Count', fontsize=12)\n",
    "ax.set_xlabel('Class', fontsize=12)\n",
    "ax.set_xticklabels(['No-Fraude', 'Fraude'])\n",
    "plt.show()"
   ]
  },
  {
   "cell_type": "markdown",
   "id": "e20737d3",
   "metadata": {},
   "source": [
    "---"
   ]
  },
  {
   "cell_type": "markdown",
   "id": "356a10d0",
   "metadata": {},
   "source": [
    "<p style='line-height: 2; text-align: justify; text-indent: 35px;'> Por último, é apresentado o boxplot dos valores das transações válidas e inválidas. Nota-se que não há grandes diferenças entre esses boxplots. No geral, ambas as classes são formadas por transações cotidianas e casuais. Apenas é perceptível que o boxplot das transações fraudulentas possui uma amplitude maior do limite superior.</p>"
   ]
  },
  {
   "cell_type": "code",
   "execution_count": 14,
   "id": "9039fbab",
   "metadata": {},
   "outputs": [
    {
     "data": {
      "image/png": "[encoded data removed]",
      "text/plain": [
       "<Figure size 1400x400 with 1 Axes>"
      ]
     },
     "metadata": {},
     "output_type": "display_data"
    }
   ],
   "source": [
    "# Boxplot das Transações \n",
    "fig, ax = plt.subplots(figsize=(4, 4))\n",
    "ax = sns.boxplot(x='Amount', y='Class', data=dataset, width = 0.5, orient='h', showfliers=False)\n",
    "ax.figure.set_size_inches(14, 4)\n",
    "ax.set_title('Fraude vs No-Fraude', fontsize=16)\n",
    "ax.set_xlabel('Transaction Values($)', fontsize=12)\n",
    "ax.set_ylabel('Class', fontsize=12)\n",
    "ax.set_yticklabels(['No-Fraude', 'Fraude'])\n",
    "plt.show()"
   ]
  },
  {
   "cell_type": "markdown",
   "id": "603f3031",
   "metadata": {},
   "source": [
    "# <font color = 'black' style='font-size: 26px;'> Pré-Processamento dos Dados</font>  \n",
    "<hr style = 'border: 1.5px solid black;'>"
   ]
  },
  {
   "cell_type": "markdown",
   "id": "2e0fa1f6",
   "metadata": {},
   "source": [
    "## Padronização\n",
    "---"
   ]
  },
  {
   "cell_type": "markdown",
   "id": "aed72475",
   "metadata": {},
   "source": [
    "<p style='line-height: 2; text-align: justify; text-indent: 35px;'>  Nos projetos utilizados como base, os autores ponderam sobre a irregularidade das features “Time” e “Amount”. De fato, como pode ser observado nas estatísticas descritivas do dataset, elas possuem uma grande variabilidade em algumas amostras, contendo uma grande quantidade de candidatos a outliers. Para lidar com esse problema, foi utilizado a biblioteca de padronização <a href='https://scikit-learn.org/stable/modules/generated/sklearn.preprocessing.RobustScaler.html'> Robust Scaler</a>, com o objetivo de homogeneizar ambas as features. Essa função é mais indicada para dados com grande quantidade de outliers em comparação a função Standard Scaler do scikit-learning. As demais features foram padronizadas com o Standard Scaler, já que apresentam maior uniformidade.</p>"
   ]
  },
  {
   "cell_type": "code",
   "execution_count": 15,
   "id": "8931abf1",
   "metadata": {},
   "outputs": [
    {
     "data": {
      "text/html": [
       "<div>\n",
       "<style scoped>\n",
       "    .dataframe tbody tr th:only-of-type {\n",
       "        vertical-align: middle;\n",
       "    }\n",
       "\n",
       "    .dataframe tbody tr th {\n",
       "        vertical-align: top;\n",
       "    }\n",
       "\n",
       "    .dataframe thead th {\n",
       "        text-align: right;\n",
       "    }\n",
       "</style>\n",
       "<table border=\"1\" class=\"dataframe\">\n",
       "  <thead>\n",
       "    <tr style=\"text-align: right;\">\n",
       "      <th></th>\n",
       "      <th>V1</th>\n",
       "      <th>V2</th>\n",
       "      <th>V3</th>\n",
       "      <th>V4</th>\n",
       "      <th>V5</th>\n",
       "      <th>V6</th>\n",
       "      <th>V7</th>\n",
       "      <th>V8</th>\n",
       "      <th>V9</th>\n",
       "      <th>V10</th>\n",
       "      <th>...</th>\n",
       "      <th>V22</th>\n",
       "      <th>V23</th>\n",
       "      <th>V24</th>\n",
       "      <th>V25</th>\n",
       "      <th>V26</th>\n",
       "      <th>V27</th>\n",
       "      <th>V28</th>\n",
       "      <th>Scaled_Time</th>\n",
       "      <th>Scaled_Amount</th>\n",
       "      <th>Class</th>\n",
       "    </tr>\n",
       "  </thead>\n",
       "  <tbody>\n",
       "    <tr>\n",
       "      <th>0</th>\n",
       "      <td>-0.701079</td>\n",
       "      <td>-0.041699</td>\n",
       "      <td>1.680070</td>\n",
       "      <td>0.976654</td>\n",
       "      <td>-0.247005</td>\n",
       "      <td>0.348021</td>\n",
       "      <td>0.193701</td>\n",
       "      <td>0.084436</td>\n",
       "      <td>0.333546</td>\n",
       "      <td>0.085693</td>\n",
       "      <td>...</td>\n",
       "      <td>0.383432</td>\n",
       "      <td>-0.177486</td>\n",
       "      <td>0.110111</td>\n",
       "      <td>0.246983</td>\n",
       "      <td>-0.392591</td>\n",
       "      <td>0.333138</td>\n",
       "      <td>-0.065993</td>\n",
       "      <td>-0.995290</td>\n",
       "      <td>1.774718</td>\n",
       "      <td>0</td>\n",
       "    </tr>\n",
       "    <tr>\n",
       "      <th>1</th>\n",
       "      <td>0.608814</td>\n",
       "      <td>0.164168</td>\n",
       "      <td>0.109292</td>\n",
       "      <td>0.319030</td>\n",
       "      <td>0.042246</td>\n",
       "      <td>-0.061010</td>\n",
       "      <td>-0.065654</td>\n",
       "      <td>0.072901</td>\n",
       "      <td>-0.231680</td>\n",
       "      <td>-0.153808</td>\n",
       "      <td>...</td>\n",
       "      <td>-0.881493</td>\n",
       "      <td>0.162100</td>\n",
       "      <td>-0.561426</td>\n",
       "      <td>0.321232</td>\n",
       "      <td>0.260865</td>\n",
       "      <td>-0.027197</td>\n",
       "      <td>0.043145</td>\n",
       "      <td>-0.995290</td>\n",
       "      <td>-0.268530</td>\n",
       "      <td>0</td>\n",
       "    </tr>\n",
       "    <tr>\n",
       "      <th>2</th>\n",
       "      <td>-0.700360</td>\n",
       "      <td>-0.811359</td>\n",
       "      <td>1.174263</td>\n",
       "      <td>0.270663</td>\n",
       "      <td>-0.366758</td>\n",
       "      <td>1.352655</td>\n",
       "      <td>0.643255</td>\n",
       "      <td>0.210809</td>\n",
       "      <td>-1.381211</td>\n",
       "      <td>0.194203</td>\n",
       "      <td>...</td>\n",
       "      <td>1.065097</td>\n",
       "      <td>1.457752</td>\n",
       "      <td>-1.138515</td>\n",
       "      <td>-0.628080</td>\n",
       "      <td>-0.288868</td>\n",
       "      <td>-0.144445</td>\n",
       "      <td>-0.183971</td>\n",
       "      <td>-0.995279</td>\n",
       "      <td>4.959811</td>\n",
       "      <td>0</td>\n",
       "    </tr>\n",
       "  </tbody>\n",
       "</table>\n",
       "<p>3 rows × 31 columns</p>\n",
       "</div>"
      ],
      "text/plain": [
       "         V1        V2        V3        V4        V5        V6        V7  \\\n",
       "0 -0.701079 -0.041699  1.680070  0.976654 -0.247005  0.348021  0.193701   \n",
       "1  0.608814  0.164168  0.109292  0.319030  0.042246 -0.061010 -0.065654   \n",
       "2 -0.700360 -0.811359  1.174263  0.270663 -0.366758  1.352655  0.643255   \n",
       "\n",
       "         V8        V9       V10  ...       V22       V23       V24       V25  \\\n",
       "0  0.084436  0.333546  0.085693  ...  0.383432 -0.177486  0.110111  0.246983   \n",
       "1  0.072901 -0.231680 -0.153808  ... -0.881493  0.162100 -0.561426  0.321232   \n",
       "2  0.210809 -1.381211  0.194203  ...  1.065097  1.457752 -1.138515 -0.628080   \n",
       "\n",
       "        V26       V27       V28  Scaled_Time  Scaled_Amount  Class  \n",
       "0 -0.392591  0.333138 -0.065993    -0.995290       1.774718      0  \n",
       "1  0.260865 -0.027197  0.043145    -0.995290      -0.268530      0  \n",
       "2 -0.288868 -0.144445 -0.183971    -0.995279       4.959811      0  \n",
       "\n",
       "[3 rows x 31 columns]"
      ]
     },
     "execution_count": 15,
     "metadata": {},
     "output_type": "execute_result"
    }
   ],
   "source": [
    "# Removendo as features que serão padronizadas\n",
    "df = dataset.drop(['Time', 'Amount', 'Class'], axis=1)\n",
    "\n",
    "# Padronizando utilizando o StandardScaler()\n",
    "std_scaler = StandardScaler()\n",
    "for col in df.columns:\n",
    "    df[col] = std_scaler.fit_transform((df[col].values.reshape(-1,1)))\n",
    "\n",
    "# Normalizando as features \"Time\" e \"Amount\" utilizando o RobustScaler\n",
    "robust_scaler = RobustScaler()\n",
    "df['Scaled_Time'] = robust_scaler.fit_transform(dataset['Time'].values.reshape(-1,1))\n",
    "df['Scaled_Amount'] = robust_scaler.fit_transform(dataset['Amount'].values.reshape(-1,1))\n",
    "\n",
    "# Dataframe Padronizado\n",
    "df['Class'] = dataset['Class']\n",
    "df.head(3)"
   ]
  },
  {
   "cell_type": "markdown",
   "id": "0b5e2eb5",
   "metadata": {},
   "source": [
    "## Identificando os Outliers\n",
    "---"
   ]
  },
  {
   "cell_type": "markdown",
   "id": "2e5461a7",
   "metadata": {},
   "source": [
    "<p style='line-height: 2; text-align: justify; text-indent: 35px;'> A remoção dos outliers é um importante procedimento a ser feito antes do processo de treinamento e otimização dos modelos. Em suma, a ideia por trás desse procedimento é facilitar o processo de aprendizado e generalização dos casos mais recorrentes. No entanto, há um Trade-Off nisso. A remoção dessas instâncias facilitará a captura dos padrões dos casos mais comuns. Porém, é bem provável que o modelo tenha um desempenho ruim nos casos atípicos. </p>"
   ]
  },
  {
   "cell_type": "markdown",
   "id": "42b246cc",
   "metadata": {},
   "source": [
    "<p style='line-height: 2; text-align: justify; text-indent: 35px;'>Existem diversas técnicas para encontrar e remover os outliers dos dados. Neste projeto, foi utilizado o Interquartile Range (IQR) para a remoção. Ela foi aplicada em relação a feature “Amount”, que é a feature mais correlacionada com as demais. Ao aplicá-la, seriam removidas 87 instâncias da classe minoritária, correspondendo a uma redução de 18% da quantidade total de instância dessa classe. Essa redução poderia afetar drasticamente o processo de treinamento e validação do modelo, já que a classe minoritária possui apenas 473 instâncias. Em virtude disso, não foi feita a remoção dos outliers. </p>"
   ]
  },
  {
   "cell_type": "code",
   "execution_count": 16,
   "id": "af0fd964",
   "metadata": {},
   "outputs": [
    {
     "data": {
      "text/html": [
       "<div>\n",
       "<style scoped>\n",
       "    .dataframe tbody tr th:only-of-type {\n",
       "        vertical-align: middle;\n",
       "    }\n",
       "\n",
       "    .dataframe tbody tr th {\n",
       "        vertical-align: top;\n",
       "    }\n",
       "\n",
       "    .dataframe thead th {\n",
       "        text-align: right;\n",
       "    }\n",
       "</style>\n",
       "<table border=\"1\" class=\"dataframe\">\n",
       "  <thead>\n",
       "    <tr style=\"text-align: right;\">\n",
       "      <th></th>\n",
       "      <th>V1</th>\n",
       "      <th>V2</th>\n",
       "      <th>V3</th>\n",
       "      <th>V4</th>\n",
       "      <th>V5</th>\n",
       "      <th>V6</th>\n",
       "      <th>V7</th>\n",
       "      <th>V8</th>\n",
       "      <th>V9</th>\n",
       "      <th>V10</th>\n",
       "      <th>...</th>\n",
       "      <th>V22</th>\n",
       "      <th>V23</th>\n",
       "      <th>V24</th>\n",
       "      <th>V25</th>\n",
       "      <th>V26</th>\n",
       "      <th>V27</th>\n",
       "      <th>V28</th>\n",
       "      <th>Scaled_Time</th>\n",
       "      <th>Scaled_Amount</th>\n",
       "      <th>Class</th>\n",
       "    </tr>\n",
       "  </thead>\n",
       "  <tbody>\n",
       "    <tr>\n",
       "      <th>count</th>\n",
       "      <td>283726.00</td>\n",
       "      <td>283726.00</td>\n",
       "      <td>283726.00</td>\n",
       "      <td>283726.00</td>\n",
       "      <td>283726.00</td>\n",
       "      <td>283726.00</td>\n",
       "      <td>283726.00</td>\n",
       "      <td>283726.00</td>\n",
       "      <td>283726.00</td>\n",
       "      <td>283726.00</td>\n",
       "      <td>...</td>\n",
       "      <td>283726.00</td>\n",
       "      <td>283726.00</td>\n",
       "      <td>283726.00</td>\n",
       "      <td>283726.00</td>\n",
       "      <td>283726.00</td>\n",
       "      <td>283726.00</td>\n",
       "      <td>283726.00</td>\n",
       "      <td>283726.00</td>\n",
       "      <td>283726.00</td>\n",
       "      <td>283726.00</td>\n",
       "    </tr>\n",
       "    <tr>\n",
       "      <th>mean</th>\n",
       "      <td>0.00</td>\n",
       "      <td>-0.00</td>\n",
       "      <td>-0.00</td>\n",
       "      <td>0.00</td>\n",
       "      <td>0.00</td>\n",
       "      <td>-0.00</td>\n",
       "      <td>0.00</td>\n",
       "      <td>0.00</td>\n",
       "      <td>-0.00</td>\n",
       "      <td>-0.00</td>\n",
       "      <td>...</td>\n",
       "      <td>0.00</td>\n",
       "      <td>0.00</td>\n",
       "      <td>-0.00</td>\n",
       "      <td>0.00</td>\n",
       "      <td>-0.00</td>\n",
       "      <td>0.00</td>\n",
       "      <td>0.00</td>\n",
       "      <td>0.12</td>\n",
       "      <td>0.92</td>\n",
       "      <td>0.00</td>\n",
       "    </tr>\n",
       "    <tr>\n",
       "      <th>std</th>\n",
       "      <td>1.00</td>\n",
       "      <td>1.00</td>\n",
       "      <td>1.00</td>\n",
       "      <td>1.00</td>\n",
       "      <td>1.00</td>\n",
       "      <td>1.00</td>\n",
       "      <td>1.00</td>\n",
       "      <td>1.00</td>\n",
       "      <td>1.00</td>\n",
       "      <td>1.00</td>\n",
       "      <td>...</td>\n",
       "      <td>1.00</td>\n",
       "      <td>1.00</td>\n",
       "      <td>1.00</td>\n",
       "      <td>1.00</td>\n",
       "      <td>1.00</td>\n",
       "      <td>1.00</td>\n",
       "      <td>1.00</td>\n",
       "      <td>0.56</td>\n",
       "      <td>3.48</td>\n",
       "      <td>0.04</td>\n",
       "    </tr>\n",
       "    <tr>\n",
       "      <th>min</th>\n",
       "      <td>-28.96</td>\n",
       "      <td>-44.16</td>\n",
       "      <td>-32.03</td>\n",
       "      <td>-4.02</td>\n",
       "      <td>-82.60</td>\n",
       "      <td>-19.64</td>\n",
       "      <td>-35.48</td>\n",
       "      <td>-62.10</td>\n",
       "      <td>-12.26</td>\n",
       "      <td>-22.84</td>\n",
       "      <td>...</td>\n",
       "      <td>-15.09</td>\n",
       "      <td>-71.84</td>\n",
       "      <td>-4.68</td>\n",
       "      <td>-19.75</td>\n",
       "      <td>-5.40</td>\n",
       "      <td>-57.03</td>\n",
       "      <td>-47.04</td>\n",
       "      <td>-1.00</td>\n",
       "      <td>-0.31</td>\n",
       "      <td>0.00</td>\n",
       "    </tr>\n",
       "    <tr>\n",
       "      <th>25%</th>\n",
       "      <td>-0.47</td>\n",
       "      <td>-0.36</td>\n",
       "      <td>-0.59</td>\n",
       "      <td>-0.60</td>\n",
       "      <td>-0.50</td>\n",
       "      <td>-0.58</td>\n",
       "      <td>-0.45</td>\n",
       "      <td>-0.18</td>\n",
       "      <td>-0.59</td>\n",
       "      <td>-0.50</td>\n",
       "      <td>...</td>\n",
       "      <td>-0.75</td>\n",
       "      <td>-0.26</td>\n",
       "      <td>-0.59</td>\n",
       "      <td>-0.61</td>\n",
       "      <td>-0.68</td>\n",
       "      <td>-0.18</td>\n",
       "      <td>-0.16</td>\n",
       "      <td>-0.36</td>\n",
       "      <td>-0.23</td>\n",
       "      <td>0.00</td>\n",
       "    </tr>\n",
       "    <tr>\n",
       "      <th>50%</th>\n",
       "      <td>0.01</td>\n",
       "      <td>0.04</td>\n",
       "      <td>0.12</td>\n",
       "      <td>-0.01</td>\n",
       "      <td>-0.04</td>\n",
       "      <td>-0.21</td>\n",
       "      <td>0.03</td>\n",
       "      <td>0.02</td>\n",
       "      <td>-0.05</td>\n",
       "      <td>-0.09</td>\n",
       "      <td>...</td>\n",
       "      <td>0.01</td>\n",
       "      <td>-0.02</td>\n",
       "      <td>0.07</td>\n",
       "      <td>0.03</td>\n",
       "      <td>-0.11</td>\n",
       "      <td>-0.00</td>\n",
       "      <td>0.03</td>\n",
       "      <td>0.00</td>\n",
       "      <td>0.00</td>\n",
       "      <td>0.00</td>\n",
       "    </tr>\n",
       "    <tr>\n",
       "      <th>75%</th>\n",
       "      <td>0.67</td>\n",
       "      <td>0.49</td>\n",
       "      <td>0.68</td>\n",
       "      <td>0.53</td>\n",
       "      <td>0.44</td>\n",
       "      <td>0.30</td>\n",
       "      <td>0.46</td>\n",
       "      <td>0.28</td>\n",
       "      <td>0.55</td>\n",
       "      <td>0.42</td>\n",
       "      <td>...</td>\n",
       "      <td>0.73</td>\n",
       "      <td>0.24</td>\n",
       "      <td>0.73</td>\n",
       "      <td>0.67</td>\n",
       "      <td>0.50</td>\n",
       "      <td>0.23</td>\n",
       "      <td>0.24</td>\n",
       "      <td>0.64</td>\n",
       "      <td>0.77</td>\n",
       "      <td>0.00</td>\n",
       "    </tr>\n",
       "    <tr>\n",
       "      <th>max</th>\n",
       "      <td>1.26</td>\n",
       "      <td>13.40</td>\n",
       "      <td>6.22</td>\n",
       "      <td>11.94</td>\n",
       "      <td>25.27</td>\n",
       "      <td>55.04</td>\n",
       "      <td>98.23</td>\n",
       "      <td>16.97</td>\n",
       "      <td>14.24</td>\n",
       "      <td>22.06</td>\n",
       "      <td>...</td>\n",
       "      <td>14.50</td>\n",
       "      <td>36.12</td>\n",
       "      <td>7.57</td>\n",
       "      <td>14.43</td>\n",
       "      <td>7.30</td>\n",
       "      <td>79.88</td>\n",
       "      <td>103.18</td>\n",
       "      <td>1.04</td>\n",
       "      <td>356.96</td>\n",
       "      <td>1.00</td>\n",
       "    </tr>\n",
       "  </tbody>\n",
       "</table>\n",
       "<p>8 rows × 31 columns</p>\n",
       "</div>"
      ],
      "text/plain": [
       "              V1         V2         V3         V4         V5         V6  \\\n",
       "count  283726.00  283726.00  283726.00  283726.00  283726.00  283726.00   \n",
       "mean        0.00      -0.00      -0.00       0.00       0.00      -0.00   \n",
       "std         1.00       1.00       1.00       1.00       1.00       1.00   \n",
       "min       -28.96     -44.16     -32.03      -4.02     -82.60     -19.64   \n",
       "25%        -0.47      -0.36      -0.59      -0.60      -0.50      -0.58   \n",
       "50%         0.01       0.04       0.12      -0.01      -0.04      -0.21   \n",
       "75%         0.67       0.49       0.68       0.53       0.44       0.30   \n",
       "max         1.26      13.40       6.22      11.94      25.27      55.04   \n",
       "\n",
       "              V7         V8         V9        V10  ...        V22        V23  \\\n",
       "count  283726.00  283726.00  283726.00  283726.00  ...  283726.00  283726.00   \n",
       "mean        0.00       0.00      -0.00      -0.00  ...       0.00       0.00   \n",
       "std         1.00       1.00       1.00       1.00  ...       1.00       1.00   \n",
       "min       -35.48     -62.10     -12.26     -22.84  ...     -15.09     -71.84   \n",
       "25%        -0.45      -0.18      -0.59      -0.50  ...      -0.75      -0.26   \n",
       "50%         0.03       0.02      -0.05      -0.09  ...       0.01      -0.02   \n",
       "75%         0.46       0.28       0.55       0.42  ...       0.73       0.24   \n",
       "max        98.23      16.97      14.24      22.06  ...      14.50      36.12   \n",
       "\n",
       "             V24        V25        V26        V27        V28  Scaled_Time  \\\n",
       "count  283726.00  283726.00  283726.00  283726.00  283726.00    283726.00   \n",
       "mean       -0.00       0.00      -0.00       0.00       0.00         0.12   \n",
       "std         1.00       1.00       1.00       1.00       1.00         0.56   \n",
       "min        -4.68     -19.75      -5.40     -57.03     -47.04        -1.00   \n",
       "25%        -0.59      -0.61      -0.68      -0.18      -0.16        -0.36   \n",
       "50%         0.07       0.03      -0.11      -0.00       0.03         0.00   \n",
       "75%         0.73       0.67       0.50       0.23       0.24         0.64   \n",
       "max         7.57      14.43       7.30      79.88     103.18         1.04   \n",
       "\n",
       "       Scaled_Amount      Class  \n",
       "count      283726.00  283726.00  \n",
       "mean            0.92       0.00  \n",
       "std             3.48       0.04  \n",
       "min            -0.31       0.00  \n",
       "25%            -0.23       0.00  \n",
       "50%             0.00       0.00  \n",
       "75%             0.77       0.00  \n",
       "max           356.96       1.00  \n",
       "\n",
       "[8 rows x 31 columns]"
      ]
     },
     "execution_count": 16,
     "metadata": {},
     "output_type": "execute_result"
    }
   ],
   "source": [
    "df.describe().round(2)"
   ]
  },
  {
   "cell_type": "code",
   "execution_count": 17,
   "id": "93702f27",
   "metadata": {},
   "outputs": [
    {
     "data": {
      "text/plain": [
       "0    31598\n",
       "1       87\n",
       "Name: Class, dtype: int64"
      ]
     },
     "execution_count": 17,
     "metadata": {},
     "output_type": "execute_result"
    }
   ],
   "source": [
    "# Calculando o intervalo interquartil\n",
    "Q1, Q3 = np.percentile(df['Scaled_Amount'], [25, 75])\n",
    "IQR = Q3 - Q1\n",
    "\n",
    "# Removendo as instâncias acima e abaixo dos limites\n",
    "aux = df[(df['Scaled_Amount'] >= (Q1 - 1.5 * IQR)) & (df['Scaled_Amount'] <= (Q3 + 1.5 * IQR))]\n",
    "\n",
    "# Quantidade de instâncias de cada classe que seriam removidas\n",
    "qtd = df['Class'].value_counts() - aux['Class'].value_counts() \n",
    "qtd"
   ]
  },
  {
   "cell_type": "code",
   "execution_count": 18,
   "id": "54942257",
   "metadata": {},
   "outputs": [
    {
     "name": "stdout",
     "output_type": "stream",
     "text": [
      " Porcentagem de fraudes que seriam removidas : 18.0%\n"
     ]
    }
   ],
   "source": [
    "print(f' Porcentagem de fraudes que seriam removidas : {(round(qtd[1] / df[\"Class\"].value_counts()[1], 2)) * 100}%')"
   ]
  },
  {
   "cell_type": "markdown",
   "id": "e2866004",
   "metadata": {},
   "source": [
    "## Seleção de Features\n",
    "---"
   ]
  },
  {
   "cell_type": "markdown",
   "id": "f6fb336e",
   "metadata": {},
   "source": [
    "<p style='line-height: 2; text-align: justify; text-indent: 35px;'>Ao examinar as correlações dos dados, é perceptível que algumas das features não possuem uma correlação significativa com as demais. Para modelos baseados em árvore de decisão ou em bagging, isso não é problema pois esses algoritmos são capazes de estimar a importância de cada feature para o processo de classificação. No entanto, para a maioria dos algoritmos de machine learning, a não remoção dessas features afeta drasticamente o processo de aprendizado do modelo, resultando em uma queda na performance final. Em virtude disso, as features com valores absolutos de correlação menores que 0.15 foram removidas dos dados. </p>"
   ]
  },
  {
   "cell_type": "code",
   "execution_count": 19,
   "id": "5d3c6d45",
   "metadata": {},
   "outputs": [
    {
     "data": {
      "text/plain": [
       "['V4',\n",
       " 'V8',\n",
       " 'V9',\n",
       " 'V13',\n",
       " 'V18',\n",
       " 'V19',\n",
       " 'V21',\n",
       " 'V22',\n",
       " 'V23',\n",
       " 'V24',\n",
       " 'V26',\n",
       " 'V27',\n",
       " 'V28']"
      ]
     },
     "execution_count": 19,
     "metadata": {},
     "output_type": "execute_result"
    }
   ],
   "source": [
    "# Selecionando todas as features que possuem correlação menor que 0.15\n",
    "drop_columns = []\n",
    "for col in correlation.columns:\n",
    "    if abs(correlation[col].max()) < 0.15 and abs(correlation[col].min()) < 0.15:\n",
    "        drop_columns.append(col)\n",
    "        \n",
    "drop_columns"
   ]
  },
  {
   "cell_type": "code",
   "execution_count": 20,
   "id": "c707fe55",
   "metadata": {},
   "outputs": [],
   "source": [
    "# Removendo as features selecionadas\n",
    "df.drop(drop_columns, axis=1, inplace=True)"
   ]
  },
  {
   "cell_type": "markdown",
   "id": "984d85a1",
   "metadata": {},
   "source": [
    "# <font color = 'black' style='font-size: 26px;'> Desenvolvendo os Modelos</font>  \n",
    "<hr style = 'border: 1.5px solid black;'>"
   ]
  },
  {
   "cell_type": "markdown",
   "id": "3cfb489b",
   "metadata": {},
   "source": [
    "<p style='line-height: 2; text-align: justify; text-indent: 35px;'> Para entender a metodologia aplicada no desenvolvimento dos modelos, é necessário compreender sobre os dois conceitos essenciais explicados abaixo. </p>"
   ]
  },
  {
   "cell_type": "markdown",
   "id": "d8b98ca7",
   "metadata": {},
   "source": [
    "<p style='line-height: 2; text-align: justify; text-indent: 35px;'> Data Leakage é uma falha durante a validação provocada pela utilização de instâncias de teste no treinamento. A validação apresentará um resultado melhor do que o real, pois o modelo “já tinha visto” algumas das instâncias.  É um erro frequente quando utiliza-se alguma técnica de Oversampling. Na abordagem hold-out, para evitá-la deve-se particionar os dados de treino e teste e, somente depois, aplicar a técnica de Oversampling nos dados de treino. Já no cross-validation, a técnica de Oversampling deve ser aplicada apenas no fold utilizado como treinamento. </p>"
   ]
  },
  {
   "cell_type": "markdown",
   "id": "2cccf03c",
   "metadata": {},
   "source": [
    "<p style='line-height: 2; text-align: justify; text-indent: 35px;'><a href='https://imbalanced-learn.org/stable/references/generated/imblearn.over_sampling.SMOTE.html'>SMOTE</a> (Synthetic Minority Oversampling Technique) é a técnica de Oversampling mais comumente utilizada para lidar com desbalanceamento de classes. De forma bastante simplificada, a ideia geral do SMOTE é selecionar aos pares, instâncias com maior proximidade, com o intuito de gerar uma nova instância baseada nesse par. É uma abordagem muito mais interessante que o Random Sample, que apenas duplica as instâncias da classe minoritária e, no geral, apresenta também um resultado muito melhor. Alguns materiais utilizados referência foram:</p>\n",
    "\n",
    "<ul>\n",
    "    <ul>\n",
    "        <li style='line-height: 2; text-align: justify; list-style-type: disc;'><a href='https://machinelearningmastery.com/smote-oversampling-for-imbalanced-classification/'>SMOTE for Imbalanced Classification with Python</a></li>\n",
    "        <li style='line-height: 2; text-align: justify; list-style-type: disc;'><a href='https://www.geeksforgeeks.org/ml-handling-imbalanced-data-with-smote-and-near-miss-algorithm-in-python/'>ML | Handling Imbalanced Data with SMOTE and Near Miss Algorithm in Python</a></li>\n",
    "        <li style='line-height: 2; text-align: justify; list-style-type: disc;'><a href='https://www.analyticsvidhya.com/blog/2020/10/overcoming-class-imbalance-using-smote-techniques/'>Overcoming Class Imbalance using SMOTE Techniques</a></li>\n",
    "        <li style='line-height: 2; text-align: justify; list-style-type: disc;'><a href='https://towardsdatascience.com/the-right-way-of-using-smote-with-cross-validation-92a8d09d00c7'>The right way of using SMOTE with Cross-validation</a></li>\n",
    "    <ul>\n",
    "<ul>\n",
    "        "
   ]
  },
  {
   "cell_type": "markdown",
   "id": "5907a84e",
   "metadata": {},
   "source": [
    "## Particionando os Dados\n",
    "---"
   ]
  },
  {
   "cell_type": "markdown",
   "id": "ac658bdc",
   "metadata": {},
   "source": [
    "<p style='line-height: 2; text-align: justify; text-indent: 35px;'> Os dados são particionados em 80% para treinamento e 20% para validação. A estratégia de treinamento utilizada é o Cross-Validation. Em síntese, ela consiste em dividir os dados em k-folds. A cada iteração, o modelo utilizará  k-1 folders para treinamento e 1 para teste. Dito isso, os dados de treinamento são particionado em 4 folders estratificados, cada um contendo 20% das instâncias de cada classe. Por último, o SMOTE é aplicado somente nos folders utilizados como treinamento naquela iteração, evitando assim o Data Leakage.</p>"
   ]
  },
  {
   "cell_type": "code",
   "execution_count": 21,
   "id": "e5235cad",
   "metadata": {},
   "outputs": [],
   "source": [
    "# Variáveis Explicativas\n",
    "X = df.drop(['Class'], axis=1)\n",
    "\n",
    "# Variável Dependente\n",
    "y = df['Class']\n",
    "\n",
    "# Dividindo os dados de treino e teste\n",
    "X_train, X_test, y_train, y_test = train_test_split(X, y, test_size=0.2, random_state=SEED, stratify=y)"
   ]
  },
  {
   "cell_type": "code",
   "execution_count": 22,
   "id": "8ab03f2e",
   "metadata": {},
   "outputs": [],
   "source": [
    "# Oversampling utilizando o SMOTE\n",
    "sm = SMOTE(sampling_strategy='minority', random_state=SEED)\n",
    "\n",
    "# Fold Splitter\n",
    "skf = StratifiedKFold(n_splits=4, random_state=SEED, shuffle=True)"
   ]
  },
  {
   "cell_type": "code",
   "execution_count": 23,
   "id": "020c6995",
   "metadata": {},
   "outputs": [
    {
     "data": {
      "text/plain": [
       "0    226602\n",
       "1       378\n",
       "Name: Class, dtype: int64"
      ]
     },
     "execution_count": 23,
     "metadata": {},
     "output_type": "execute_result"
    }
   ],
   "source": [
    "# Dados de treino\n",
    "y_train.value_counts()"
   ]
  },
  {
   "cell_type": "code",
   "execution_count": 24,
   "id": "f6070554",
   "metadata": {},
   "outputs": [
    {
     "data": {
      "text/plain": [
       "0    56651\n",
       "1       95\n",
       "Name: Class, dtype: int64"
      ]
     },
     "execution_count": 24,
     "metadata": {},
     "output_type": "execute_result"
    }
   ],
   "source": [
    "# Dados para teste\n",
    "y_test.value_counts()"
   ]
  },
  {
   "cell_type": "markdown",
   "id": "6e574759",
   "metadata": {},
   "source": [
    "## Treinando os Modelos\n",
    "---"
   ]
  },
  {
   "cell_type": "markdown",
   "id": "91b2b908",
   "metadata": {},
   "source": [
    "<p style='line-height: 2; text-align: justify; text-indent: 35px;'> Para a criação dos modelos de classificação, foram escolhidos os algoritmos Logistic Regression, Random Forest, Adaboost, XGBoost e Multilayer Perceptron. </p>\n",
    "\n",
    "<ul>\n",
    "    <ul>\n",
    "        <li style='line-height: 2; text-align: justify; list-style-type: disc;'>Logistic Regression é um dos algoritmos clássicos da literatura de machine learning. É um estimador simples, eficiente e que geralmente apresenta bons resultados para problemas de classificação binária.</li>\n",
    "        <li style='line-height: 2; text-align: justify; list-style-type: disc;'>Random Forest é um método ensemble de classificação, baseado na criação de múltiplas árvores de decisão. É um algoritmo que não necessita normalização ou padronização dos dados, além de possuir diversos hiperparâmetros que possibilitam sua otimização.</li>\n",
    "        <li style='line-height: 2; text-align: justify; list-style-type: disc;'>XGBoost é um dos método ensemble mais utilizados atualmente. Ele utiliza o gradiente descendente e árvore de decisão para criação do modelo, apresentando resultados extremamente satisfatórios. Em contrapartida, é um método bastante lento de execução, em comparação com os demais algoritmos.</li>\n",
    "        <li style='line-height: 2; text-align: justify; list-style-type: disc;'>Multilayer Perceptron é uma rede neural com múltiplas camadas ocultas, sendo uma das redes neurais clássicas da literatura.</li>\n",
    "    </ul>\n",
    "</ul>\n"
   ]
  },
  {
   "cell_type": "code",
   "execution_count": 25,
   "id": "735c0280",
   "metadata": {},
   "outputs": [],
   "source": [
    "# Inicializando os Classificadores\n",
    "classifiers = {'LogisticRegression': LogisticRegression(random_state=SEED, n_jobs=-1),\n",
    "               'RandomForest': RandomForestClassifier(random_state=SEED, max_depth=8, n_jobs=-1),\n",
    "               'XGBoost': XGBClassifier(random_state=SEED, n_jobs=-1),               \n",
    "               'MultiLayerPerceptron' : MLPClassifier(random_state=SEED)}"
   ]
  },
  {
   "cell_type": "code",
   "execution_count": 26,
   "id": "aa30cd9f",
   "metadata": {},
   "outputs": [],
   "source": [
    "# Dicionários para armazenar as métricas\n",
    "accuracy = {}\n",
    "recall = {}\n",
    "precision = {}\n",
    "f1 = {}"
   ]
  },
  {
   "cell_type": "markdown",
   "id": "718db42c",
   "metadata": {},
   "source": [
    "<p style='line-height: 2; text-align: justify; text-indent: 35px;'>A célula abaixo efetua a Cross-Validation para os modelos citados anteriormente. Em cada iteração, é calculado as métricas de acurácia, recall, precisão e f1 score em relação ao fold utilizado para teste. Como o processo de aprendizado dos modelos demanda certo tempo, os modelos são salvos utilizando a biblioteca pickle, evitando execuções desnecessárias.</p>"
   ]
  },
  {
   "cell_type": "code",
   "execution_count": 27,
   "id": "f2515c92",
   "metadata": {},
   "outputs": [],
   "source": [
    "if(EXECUTAR):\n",
    "    for name, classifier in classifiers.items():\n",
    "        model, accuracy[name], recall[name], precision[name], f1[name] = cross_validation(X_train, y_train, classifier, sm, skf)\n",
    "        save_with_pickle(model, './Modelos/', name)\n",
    "        \n",
    "    # Salvando os valores das métricas\n",
    "    metrics = {'accuracy_train' : accuracy, \n",
    "               'recall_train': recall, \n",
    "               'precision_train' : precision,\n",
    "               'f1_train' : f1}\n",
    "\n",
    "    save_with_pickle(metrics, './Métricas/', 'metrics')"
   ]
  },
  {
   "cell_type": "markdown",
   "id": "505bf320",
   "metadata": {},
   "source": [
    "## Otimizando os Hiperparâmetros\n",
    "---"
   ]
  },
  {
   "cell_type": "markdown",
   "id": "98e4186f",
   "metadata": {},
   "source": [
    "<p style='line-height: 2; text-align: justify; text-indent: 35px;'>O processo de otimização é feito utilizando o GridSearchCV. Para isso, é necessário definir qual métrica quer-se otimizar. A princípio, foi utilizado o recall como métrica de otimização do GridSearchCV. Como resultado, os modelos gerados obtiveram um altíssimo valor de recall, bem próximo de 1. No entanto, durante o processo de validação, foi identificado que os modelos estavam predizendo a classe positiva com maior frequência para maximizar o recall, decorrendo em um alto número de falsos positivos. Em outras palavras, o prejuízo ao banco seria quase nulo, mas diversos clientes teriam suas transações retidas indevidamente, prejudicando drasticamente a qualidade do serviço fornecido. </p>\n",
    "\n",
    "<p style='line-height: 2; text-align: justify; text-indent: 35px;'>Portanto, a métrica de otimização mais viável dado o contexto do problema é o F1 score. Com isso, espera-se que os modelos otimizados acertem grande parte das instâncias da classe positiva (fraude) mantendo uma boa precisão. Conforme mostrado na análise exploratória, as transações fraudulentas ocorrem com uma baixíssima frequência e possuem valores relativamente baixos. Dessa forma, os prejuízos causados pela escolha dessa métrica não seriam grandes e o sistema de detecção de fraudes não prejudicaria a qualidade do serviço de crédito fornecido.</p>\n"
   ]
  },
  {
   "cell_type": "markdown",
   "id": "d55c50ea",
   "metadata": {},
   "source": [
    "<p style='line-height: 2; text-align: justify; text-indent: 35px;'> Outro ponto importante nesse processo de otimização são as escolhas dos hiperparâmetros candidatos. Em síntese, o GridSearchCV cria modelos utilizando as combinações dos hiperparâmetros recebidos e retorna o modelo com maior desempenho em relação a métrica de otimização escolhida. A escolha desses hiperparâmetros foi feita da seguinte forma:</p>\n",
    "\n",
    "<ul>\n",
    "    <ul>\n",
    "        <li style='line-height: 2; text-align: justify; list-style-type: disc;'>Para os algoritmos ensembles, como o RandomForest e XGBoost, a quantidade de estimadores criados será de 10, 50, 100 ou 200. Essas quantidades são suficientes para o problema em questão. Quantidades maiores de estimadores podem provocar Overfitting.</li>\n",
    "        <li style='line-height: 2; text-align: justify; list-style-type: disc;'>Para os algoritmos baseados em árvore de decisão, como o RandomForest e o XGBoost, a altura máxima das árvores será de 4, 6, 8, ou 10. Limitar a altura máxima das árvores de decisão melhora a generalização do modelo e evitando a ocorrência de Overfitting.</li>\n",
    "        <li style='line-height: 2; text-align: justify; list-style-type: disc;'>Para o algoritmo baseado em boosting, o XGBoost, as taxas de aprendizado serão de 0.25, 0.75 e 1.25. Valores muito menores do que esses podem tornar a convergência do modelo muito demorada. Já os valores maiores podem ter dificuldade de encontrar o ótimo global.</li>\n",
    "        <li style='line-height: 2; text-align: justify; list-style-type: disc;'>Para o Logistic Regression, será criado modelos com penalidade “L2”. As constantes de força de regularização utilizada serão de 0.001, 0.01, 0.1, 1, 10, 100 ou 1000. Essa foi uma sugestão do autor do notebook <a href='https://www.kaggle.com/code/janiobachmann/credit-fraud-dealing-with-imbalanced-datasets'>Credit Fraud || Dealing with Imbalanced Datasets</a> para o problema, visando também evitar overfitting.</li>\n",
    "        <li style='line-height: 2; text-align: justify; list-style-type: disc;'>Por último, no Multilayer Perceptron serão testadas configurações de (50, 50, 50), (50, 100, 50) ou (100, 100, 100). Em cada tupla, os valores referem-se às quantidades de neurônios da camada de entrada, oculta e de saída, respectivamente.</li>\n",
    "    </ul>\n",
    "</ul>\n"
   ]
  },
  {
   "cell_type": "code",
   "execution_count": 28,
   "id": "9d737cac",
   "metadata": {},
   "outputs": [],
   "source": [
    "# Hiperparâmetros LogisticRegression\n",
    "params_lr = {'logisticregression__penalty': ['l2'], \n",
    "             'logisticregression__C': [0.001, 0.01, 0.1, 1, 10, 100, 1000],\n",
    "             'logisticregression__random_state': [SEED],\n",
    "             'logisticregression__n_jobs': [-1]}\n",
    "\n",
    "# Hiperparâmetros RandomForest\n",
    "params_rf = {'randomforestclassifier__n_estimators' :[10, 50, 100, 200],\n",
    "             'randomforestclassifier__max_depth' : [3, 4, 5, 6],\n",
    "             'randomforestclassifier__max_features' : ['sqrt', 'log2'],\n",
    "             'randomforestclassifier__random_state': [SEED],\n",
    "             'randomforestclassifier__n_jobs': [-1]}\n",
    "\n",
    "# Hiperparâmetros XGBoost\n",
    "params_xgb = {'xgbclassifier__n_estimators': [10, 50, 100, 200], \n",
    "              'xgbclassifier__max_depth': [3, 4, 5, 6], \n",
    "              'xgbclassifier__learning_rate' : [0.25, 0.75, 1.25],\n",
    "              'xgbclassifier__random_state': [SEED],\n",
    "              'xgbclassifier__n_jobs': [-1]}\n",
    "\n",
    "# Hiperparâmetros MLPClassifier\n",
    "params_mlp = {'mlpclassifier__hidden_layer_sizes' : [(50, 50, 50), (50, 100, 50), (100, 100, 100)], \n",
    "              'mlpclassifier__solver' : ['sgd', 'adam'],\n",
    "              'mlpclassifier__learning_rate': ['constant','adaptive'],\n",
    "              'mlpclassifier__random_state': [SEED]}\n",
    "\n",
    "# Parâmetros a seres explorados pelo GridSearch\n",
    "params = {'LogisticRegression':params_lr,\n",
    "          'RandomForest': params_rf,\n",
    "          'XGBoost':params_xgb,           \n",
    "          'MultiLayerPerceptron':params_mlp}"
   ]
  },
  {
   "cell_type": "markdown",
   "id": "fc15b663",
   "metadata": {},
   "source": [
    "<p style='line-height: 2; text-align: justify; text-indent: 35px;'>Vale-se ressaltar que, para utilizar o SMOTE juntamente com o GridSearchCV, é necessário utilizar o pipeline da biblioteca imblearn, que é a mesma do SMOTE. Isso se deve ao fato dos “steps” do pipeline serem efetuados antes do particionamento dos dados. Assim, o SMOTE seria efetuado em todo o conjunto de dados e não somente nos folds de treinamento, provocando um Data Leakage durante a validação. O grande diferencial do pipeline da biblioteca do imblearn é que ele executa os “steps” somente após o particionamento dos dados, esquivando-se desse problema. Na matéria <a href='https://towardsdatascience.com/the-right-way-of-using-smote-with-cross-validation-92a8d09d00c7'>The right way of using SMOTE with Cross-validation</a> é elucidado sobre o assunto. </p>"
   ]
  },
  {
   "cell_type": "code",
   "execution_count": 29,
   "id": "08cfce97",
   "metadata": {},
   "outputs": [],
   "source": [
    "if(EXECUTAR):    \n",
    "    for name, classifier in classifiers.items():\n",
    "        # Pipeline do imblearn p/ evitar o Data Leakage\n",
    "        pipeline = make_pipeline(sm, classifiers[name])\n",
    "        model = GridSearchCV(pipeline, param_grid=params[name], cv=skf, scoring='f1', return_train_score=True, n_jobs=-1)\n",
    "        model.fit(X_train, y_train)\n",
    "\n",
    "        # Utilizando o Pickle para salvar o modelo\n",
    "        save_with_pickle(model, './Modelos/', name + '_Optimized')"
   ]
  },
  {
   "cell_type": "markdown",
   "id": "00c8eedf",
   "metadata": {},
   "source": [
    "## Carregando os Modelos Salvos\n",
    "---"
   ]
  },
  {
   "cell_type": "code",
   "execution_count": 30,
   "id": "52a4869a",
   "metadata": {},
   "outputs": [],
   "source": [
    "models = {}\n",
    "gridsearch_models = {}\n",
    "\n",
    "for name in classifiers.keys(): \n",
    "    models[name] = load_with_pickle('./Modelos/', name)\n",
    "    gridsearch_models[name + '_Optimized'] = load_with_pickle('./Modelos/', name + '_Optimized')"
   ]
  },
  {
   "cell_type": "code",
   "execution_count": 31,
   "id": "c82a3c30",
   "metadata": {},
   "outputs": [],
   "source": [
    "# Carregando as métricas salvas\n",
    "metrics = load_with_pickle('./Métricas/', 'metrics')\n",
    "\n",
    "# Calculando a média do Cross-Validation\n",
    "dict_metrics = metrics.copy()\n",
    "\n",
    "for i, j in metrics.items():\n",
    "    for k, l in j.items():\n",
    "        dict_metrics[i][k] = np.mean(l)"
   ]
  },
  {
   "cell_type": "markdown",
   "id": "f0cd8cb8",
   "metadata": {},
   "source": [
    "# <font color = 'black' style='font-size: 26px;'>Validando o Treinamento </font>  \n",
    "<hr style = 'border: 1.5px solid black;'>"
   ]
  },
  {
   "cell_type": "markdown",
   "id": "c2a4cc46",
   "metadata": {},
   "source": [
    "## Modelos Iniciais\n",
    "---"
   ]
  },
  {
   "cell_type": "markdown",
   "id": "91060ad7",
   "metadata": {},
   "source": [
    "<p style='line-height: 2; text-align: justify; text-indent: 35px;'>A tabela abaixo mostra a média das métricas obtidas durante a validação cruzada dos modelos iniciais utilizando-se os dados de treinamento. A princípio, nota-se que todos os modelos obtiveram um alto valor de acurácia. Como há um desbalanceamento muito grande entre as classes, a acurácia não é uma boa métrica para validar os modelos. Para o problema em questão, que consiste em classificar se uma transação é ou não fraudulenta, é interessante que o modelo acerte grande parte da classe positiva sem errar muitas de suas previsões. Dito isso, o F1 Score é a métrica ideal para esse caso, pois ela é calculada por meio da média harmônica entre precisão e recall. </p>\n",
    "\n",
    "<p style='line-height: 2; text-align: justify; text-indent: 35px;'>Dessa forma, usando o F1 Score como métrica de comparação entre os modelos, nota-se que o XGBoost, o Multilayer Perceptron e o Random Forest são os mais qualificados. Devido a sua baixa precisão, o modelo Logistic Regression apresentou um baixíssimo valor de F1 Score, gerada pela discrepância entre suas métricas de recall e precisão.</p>"
   ]
  },
  {
   "cell_type": "code",
   "execution_count": 32,
   "id": "112697bb",
   "metadata": {},
   "outputs": [
    {
     "data": {
      "text/html": [
       "<div>\n",
       "<style scoped>\n",
       "    .dataframe tbody tr th:only-of-type {\n",
       "        vertical-align: middle;\n",
       "    }\n",
       "\n",
       "    .dataframe tbody tr th {\n",
       "        vertical-align: top;\n",
       "    }\n",
       "\n",
       "    .dataframe thead th {\n",
       "        text-align: right;\n",
       "    }\n",
       "</style>\n",
       "<table border=\"1\" class=\"dataframe\">\n",
       "  <thead>\n",
       "    <tr style=\"text-align: right;\">\n",
       "      <th></th>\n",
       "      <th>Accuracy</th>\n",
       "      <th>Recall</th>\n",
       "      <th>Precision</th>\n",
       "      <th>F1</th>\n",
       "    </tr>\n",
       "  </thead>\n",
       "  <tbody>\n",
       "    <tr>\n",
       "      <th>XGBoost</th>\n",
       "      <td>0.999</td>\n",
       "      <td>0.836</td>\n",
       "      <td>0.738</td>\n",
       "      <td>0.783</td>\n",
       "    </tr>\n",
       "    <tr>\n",
       "      <th>MultiLayerPerceptron</th>\n",
       "      <td>0.999</td>\n",
       "      <td>0.786</td>\n",
       "      <td>0.683</td>\n",
       "      <td>0.730</td>\n",
       "    </tr>\n",
       "    <tr>\n",
       "      <th>RandomForest</th>\n",
       "      <td>0.998</td>\n",
       "      <td>0.841</td>\n",
       "      <td>0.421</td>\n",
       "      <td>0.555</td>\n",
       "    </tr>\n",
       "    <tr>\n",
       "      <th>LogisticRegression</th>\n",
       "      <td>0.976</td>\n",
       "      <td>0.902</td>\n",
       "      <td>0.060</td>\n",
       "      <td>0.112</td>\n",
       "    </tr>\n",
       "  </tbody>\n",
       "</table>\n",
       "</div>"
      ],
      "text/plain": [
       "                      Accuracy  Recall  Precision     F1\n",
       "XGBoost                  0.999   0.836      0.738  0.783\n",
       "MultiLayerPerceptron     0.999   0.786      0.683  0.730\n",
       "RandomForest             0.998   0.841      0.421  0.555\n",
       "LogisticRegression       0.976   0.902      0.060  0.112"
      ]
     },
     "execution_count": 32,
     "metadata": {},
     "output_type": "execute_result"
    }
   ],
   "source": [
    "# Média dos Resultados do Cross-Validation\n",
    "metrics_train = pd.DataFrame(dict_metrics)\n",
    "metrics_train.columns = ['Accuracy', 'Recall', 'Precision', 'F1']\n",
    "metrics_train.sort_values(by='F1', ascending=False).round(3)"
   ]
  },
  {
   "cell_type": "markdown",
   "id": "2cd222eb",
   "metadata": {},
   "source": [
    "## Modelos Otimizados\n",
    "---"
   ]
  },
  {
   "cell_type": "markdown",
   "id": "404549ed",
   "metadata": {},
   "source": [
    "<p style='line-height: 2; text-align: justify; text-indent: 35px;'>Já nos modelos otimizados, observa-se que todos obtiveram uma melhora, mesmo que pequena. Novamente, o Logistic Regression apresentou um baixo desempenho. Possivelmente, houve um erro na escolha dos hiperparâmetros explorados, justificando a baixa otimização do modelo. Além disso, os resultados do XGBoost e do Multilayer Perceptron permaneceram próximos dos modelos originais, sinalizando que os parâmetros iniciais estavam próximos dos ideais. Apenas o Random Forest obteve um ganho relativamente expressivo durante o processo de otimização.</p>"
   ]
  },
  {
   "cell_type": "code",
   "execution_count": 33,
   "id": "8bf67622",
   "metadata": {},
   "outputs": [
    {
     "data": {
      "text/html": [
       "<div>\n",
       "<style scoped>\n",
       "    .dataframe tbody tr th:only-of-type {\n",
       "        vertical-align: middle;\n",
       "    }\n",
       "\n",
       "    .dataframe tbody tr th {\n",
       "        vertical-align: top;\n",
       "    }\n",
       "\n",
       "    .dataframe thead th {\n",
       "        text-align: right;\n",
       "    }\n",
       "</style>\n",
       "<table border=\"1\" class=\"dataframe\">\n",
       "  <thead>\n",
       "    <tr style=\"text-align: right;\">\n",
       "      <th></th>\n",
       "      <th>Modelos</th>\n",
       "      <th>F1</th>\n",
       "    </tr>\n",
       "  </thead>\n",
       "  <tbody>\n",
       "    <tr>\n",
       "      <th>2</th>\n",
       "      <td>XGBoost_Optimized</td>\n",
       "      <td>0.813</td>\n",
       "    </tr>\n",
       "    <tr>\n",
       "      <th>3</th>\n",
       "      <td>MultiLayerPerceptron_Optimized</td>\n",
       "      <td>0.781</td>\n",
       "    </tr>\n",
       "    <tr>\n",
       "      <th>1</th>\n",
       "      <td>RandomForest_Optimized</td>\n",
       "      <td>0.619</td>\n",
       "    </tr>\n",
       "    <tr>\n",
       "      <th>0</th>\n",
       "      <td>LogisticRegression_Optimized</td>\n",
       "      <td>0.118</td>\n",
       "    </tr>\n",
       "  </tbody>\n",
       "</table>\n",
       "</div>"
      ],
      "text/plain": [
       "                          Modelos     F1\n",
       "2               XGBoost_Optimized  0.813\n",
       "3  MultiLayerPerceptron_Optimized  0.781\n",
       "1          RandomForest_Optimized  0.619\n",
       "0    LogisticRegression_Optimized  0.118"
      ]
     },
     "execution_count": 33,
     "metadata": {},
     "output_type": "execute_result"
    }
   ],
   "source": [
    "# Melhores Scores do GridSearchCV\n",
    "scores_gridsearch = []\n",
    "for i, j in gridsearch_models.items():\n",
    "    scores_gridsearch.append(gridsearch_models[i].best_score_)\n",
    "\n",
    "metrics_train_grid = pd.DataFrame({'Modelos' : gridsearch_models.keys(), 'F1' : scores_gridsearch})\n",
    "metrics_train_grid.sort_values(by='F1', ascending=False).round(3)"
   ]
  },
  {
   "cell_type": "markdown",
   "id": "0f235df7",
   "metadata": {},
   "source": [
    "## Curva de Aprendizado\n",
    "---"
   ]
  },
  {
   "cell_type": "markdown",
   "id": "5d3dbbc4",
   "metadata": {},
   "source": [
    "<p style='line-height: 2; text-align: justify; text-indent: 35px;'> A curva de aprendizado é um artifício gráfico que possibilita mensurar a performance do modelo ao longo do tempo. Com ela, é possível ter uma estimativa do sobreajuste do modelo aos dados de treinamento. Dito isso, os gráficos abaixos correspondem às curvas de aprendizagem dos modelos otimizados. Examinando esses gráficos, nota-se que os modelos XGBoost e MultiLayer Perceptron sofreram certo overfitting. Durante o treinamento, esses modelos obtiveram um altíssimo valor de F1 score. Já na validação do cross-validation, esses valores caíram significativamente, confirmando a ideia de sobreajuste nos dados. </p>\n",
    "\n",
    "<p style='line-height: 2; text-align: justify; text-indent: 35px;'>Desse modo, os dados de testes guardados somente a validação serão fundamentais para mensurar o overfitting. Se os modelos apresentarem resultados consistentes com os apresentados durante o treinamento, pode-se afirmar que o overfitting foi pequeno. Caso contrário, pode-se afirmar que os modelos não generalizaram o padrão dos dados e devem ser descartados.</p>\n",
    "\n",
    "<p style='line-height: 2; text-align: justify; text-indent: 35px;'>Ademais, o Random Forest apresentou uma curva de aprendizado mais modesta. Não é possível afirmar se houve, ou não, overfitting durante o treinamento, já que os resultados mostrados são normais. Por último, conforme citado anteriormente, o Logistic Regression apresentou uma curva de aprendizado ruim devido a sua baixa precisão, penalizando drasticamente o seu F1 score.</p>"
   ]
  },
  {
   "cell_type": "code",
   "execution_count": 34,
   "id": "79313e56",
   "metadata": {},
   "outputs": [],
   "source": [
    "common_params = {\"X\": X_train,\n",
    "                 \"y\": y_train,\n",
    "                 \"train_sizes\": [0.25, 0.5, 0.75, 1.0],\n",
    "                 \"cv\": StratifiedKFold(n_splits=4, random_state=SEED, shuffle=True),\n",
    "                 \"scoring\": 'f1',\n",
    "                 \"score_type\": \"both\",\n",
    "                 \"n_jobs\": -1,\n",
    "                 \"line_kw\": {\"marker\": \"o\"},\n",
    "                 \"std_display_style\": \"fill_between\",\n",
    "                 \"score_name\": \"f1_score\",\n",
    "                 \"random_state\": SEED}"
   ]
  },
  {
   "cell_type": "code",
   "execution_count": 35,
   "id": "faca7893",
   "metadata": {},
   "outputs": [],
   "source": [
    "if(EXECUTAR):\n",
    "    fig, ax = plt.subplots(nrows=2, ncols=2, figsize=(16, 12), sharey=True)\n",
    "    names = ['XGBoost_Optimized', 'MultiLayerPerceptron_Optimized', 'RandomForest_Optimized', 'LogisticRegression_Optimized']\n",
    "    models = [gridsearch_models['XGBoost_Optimized'].best_estimator_, \n",
    "              gridsearch_models['MultiLayerPerceptron_Optimized'].best_estimator_,\n",
    "              gridsearch_models['RandomForest_Optimized'].best_estimator_,\n",
    "              gridsearch_models['LogisticRegression_Optimized'].best_estimator_,]\n",
    "    \n",
    "    for ax_idx, estimator in enumerate(models):\n",
    "        x = ax_idx // 2\n",
    "        y = ax_idx % 2\n",
    "        pipeline = make_pipeline(sm, estimator)\n",
    "        LearningCurveDisplay.from_estimator(pipeline, **common_params, ax=ax[x, y])\n",
    "        handles, label = ax[x, y].get_legend_handles_labels()\n",
    "        ax[x, y].legend(handles[:2], [\"Training Score\", \"Test Score\"])\n",
    "        ax[x, y].set_title(f\"{names[ax_idx]}\")\n",
    "\n",
    "    save_with_pickle(fig, './Imagens/', 'learning_curve')"
   ]
  },
  {
   "cell_type": "code",
   "execution_count": 36,
   "id": "4dadeddc",
   "metadata": {
    "scrolled": false
   },
   "outputs": [
    {
     "data": {
      "image/png": "[encoded data removed]",
      "text/plain": [
       "<Figure size 1600x1200 with 4 Axes>"
      ]
     },
     "metadata": {},
     "output_type": "display_data"
    }
   ],
   "source": [
    "fig = load_with_pickle('./Imagens/', 'learning_curve')\n",
    "plt.show()"
   ]
  },
  {
   "cell_type": "markdown",
   "id": "c79545ea",
   "metadata": {},
   "source": [
    "# <font color = 'black' style='font-size: 26px;'>Validação Final </font>  \n",
    "<hr style = 'border: 1.5px solid black;'>"
   ]
  },
  {
   "cell_type": "markdown",
   "id": "c1f5ef39",
   "metadata": {},
   "source": [
    "## Modelos Otimizados\n",
    "---"
   ]
  },
  {
   "cell_type": "markdown",
   "id": "58f9b674",
   "metadata": {},
   "source": [
    "<p style='line-height: 2; text-align: justify; text-indent: 35px;'>Na seção de “Particionamento dos Dados”, foi mencionado que 80% dos dados seriam utilizados para treinamento e 20% para validar o desempenho dos modelos. Assim, os dados abaixo são os resultados obtidos dos modelos desenvolvidos ao predizer os dados de validação.</p>\n",
    "\n",
    "<p style='line-height: 2; text-align: justify; text-indent: 35px;'>Utilizando novamente o F1 Score para mensurar o desempenho, nota-se que a ordem dos melhores classificadores é quase a mesma em relação ao treinamento. A única diferença é que o MultiLayer Perceptron apresentou métricas melhores que o XGBoost, o que é perfeitamente cabível dado a proximidade de seus scores durante a validação do treinamento. Além disso, todos os modelos apresentaram pontuações menores em relação a validação anterior. Possivelmente, os modelos sofreram um pequeno overfitting, provocando o desempenho apresentado. Como os resultados desta validação são relativamente similares aos da validação do treinamento, pode-se afirmar que, no geral, os modelos generalizaram bem os padrões dos dados.</p>"
   ]
  },
  {
   "cell_type": "code",
   "execution_count": 37,
   "id": "438caa54",
   "metadata": {},
   "outputs": [
    {
     "data": {
      "text/html": [
       "<div>\n",
       "<style scoped>\n",
       "    .dataframe tbody tr th:only-of-type {\n",
       "        vertical-align: middle;\n",
       "    }\n",
       "\n",
       "    .dataframe tbody tr th {\n",
       "        vertical-align: top;\n",
       "    }\n",
       "\n",
       "    .dataframe thead th {\n",
       "        text-align: right;\n",
       "    }\n",
       "</style>\n",
       "<table border=\"1\" class=\"dataframe\">\n",
       "  <thead>\n",
       "    <tr style=\"text-align: right;\">\n",
       "      <th></th>\n",
       "      <th>Accuracy</th>\n",
       "      <th>Recall</th>\n",
       "      <th>Precision</th>\n",
       "      <th>F1</th>\n",
       "    </tr>\n",
       "  </thead>\n",
       "  <tbody>\n",
       "    <tr>\n",
       "      <th>MultiLayerPerceptron_Optimized</th>\n",
       "      <td>0.999</td>\n",
       "      <td>0.758</td>\n",
       "      <td>0.758</td>\n",
       "      <td>0.758</td>\n",
       "    </tr>\n",
       "    <tr>\n",
       "      <th>XGBoost_Optimized</th>\n",
       "      <td>0.999</td>\n",
       "      <td>0.758</td>\n",
       "      <td>0.735</td>\n",
       "      <td>0.746</td>\n",
       "    </tr>\n",
       "    <tr>\n",
       "      <th>RandomForest_Optimized</th>\n",
       "      <td>0.998</td>\n",
       "      <td>0.789</td>\n",
       "      <td>0.403</td>\n",
       "      <td>0.534</td>\n",
       "    </tr>\n",
       "    <tr>\n",
       "      <th>LogisticRegression_Optimized</th>\n",
       "      <td>0.978</td>\n",
       "      <td>0.842</td>\n",
       "      <td>0.061</td>\n",
       "      <td>0.114</td>\n",
       "    </tr>\n",
       "  </tbody>\n",
       "</table>\n",
       "</div>"
      ],
      "text/plain": [
       "                                Accuracy  Recall  Precision     F1\n",
       "MultiLayerPerceptron_Optimized     0.999   0.758      0.758  0.758\n",
       "XGBoost_Optimized                  0.999   0.758      0.735  0.746\n",
       "RandomForest_Optimized             0.998   0.789      0.403  0.534\n",
       "LogisticRegression_Optimized       0.978   0.842      0.061  0.114"
      ]
     },
     "execution_count": 37,
     "metadata": {},
     "output_type": "execute_result"
    }
   ],
   "source": [
    "validation_metrics = pd.DataFrame(columns=['Accuracy','Recall','Precision','F1'])\n",
    "\n",
    "# Calculando as métricas do melhor modelo encontrado pelo gridsearch\n",
    "for i, j in gridsearch_models.items():\n",
    "    calculate_metrics(i, j.best_estimator_, X_test, y_test, validation_metrics)    \n",
    "    \n",
    "validation_metrics.sort_values(by='F1', ascending=False).round(3)"
   ]
  },
  {
   "cell_type": "markdown",
   "id": "82985b71",
   "metadata": {},
   "source": [
    "<p style='line-height: 2; text-align: justify; text-indent: 35px;'>Analisando as métricas por classe dos dois melhores modelos, fica nítida a dificuldade na classificação das instâncias fraudulentas. Ou seja, ainda há um pequeno déficit em detectar o padrão das instâncias positivas, ocasionada pela baixa quantidade dessas instâncias durante o treinamento.</p>"
   ]
  },
  {
   "cell_type": "code",
   "execution_count": 38,
   "id": "f858bdf6",
   "metadata": {},
   "outputs": [
    {
     "name": "stdout",
     "output_type": "stream",
     "text": [
      "              precision    recall  f1-score   support\n",
      "\n",
      "           0       1.00      1.00      1.00     56651\n",
      "           1       0.73      0.76      0.75        95\n",
      "\n",
      "    accuracy                           1.00     56746\n",
      "   macro avg       0.87      0.88      0.87     56746\n",
      "weighted avg       1.00      1.00      1.00     56746\n",
      "\n"
     ]
    }
   ],
   "source": [
    "# Métricas por classe do XGBoost Otimizado\n",
    "print(classification_report(y_test, gridsearch_models['XGBoost_Optimized'].best_estimator_.predict(X_test)))"
   ]
  },
  {
   "cell_type": "code",
   "execution_count": 39,
   "id": "39f81c14",
   "metadata": {},
   "outputs": [
    {
     "name": "stdout",
     "output_type": "stream",
     "text": [
      "              precision    recall  f1-score   support\n",
      "\n",
      "           0       1.00      1.00      1.00     56651\n",
      "           1       0.76      0.76      0.76        95\n",
      "\n",
      "    accuracy                           1.00     56746\n",
      "   macro avg       0.88      0.88      0.88     56746\n",
      "weighted avg       1.00      1.00      1.00     56746\n",
      "\n"
     ]
    }
   ],
   "source": [
    "# Métricas por classe do MultiLayer Perceptron Otimizado\n",
    "print(classification_report(y_test, gridsearch_models['MultiLayerPerceptron_Optimized'].best_estimator_.predict(X_test)))"
   ]
  },
  {
   "cell_type": "markdown",
   "id": "1bca4930",
   "metadata": {},
   "source": [
    "## Matriz de Confusão\n",
    "---"
   ]
  },
  {
   "cell_type": "markdown",
   "id": "5108357c",
   "metadata": {},
   "source": [
    "<p style='line-height: 2; text-align: justify; text-indent: 35px;'>A matriz de confusão é uma forma gráfica de visualizar os erros e acertos das predições dos modelos. É uma maneira intuitiva de tentar encontrar onde o modelo está errando. Dito isso, foi plotado as matrizes de confusão dos modelos otimizados XGBoost e MultiLayer Perceptron, que obtiveram as performances mais consistentes ao longo do projeto.</p>\n",
    "\n",
    "<p style='line-height: 2; text-align: justify; text-indent: 35px;'>Analisando essas matrizes, identifica-se que ambos estimadores têm classificado instâncias fraudulentas como legítimas. Ou seja, há um significativo índice de falsos negativos provenientes, principalmente, das características do problema e do desbalanceamento entre as classes. No geral, o desempenho de ambos os algoritmos é satisfatório. O número de falsos positivos não é significativo o bastante para causar prejuízos ao banco. Ademais, o número de falsos negativos preditos é relativamente baixo, mantendo a qualidade do serviço de crédito prestado.</p>"
   ]
  },
  {
   "cell_type": "code",
   "execution_count": 40,
   "id": "12079893",
   "metadata": {},
   "outputs": [
    {
     "data": {
      "image/png": "[encoded data removed]",
      "text/plain": [
       "<Figure size 1600x600 with 4 Axes>"
      ]
     },
     "metadata": {},
     "output_type": "display_data"
    }
   ],
   "source": [
    "fig, axes = plt.subplots(1,2, figsize=(16, 6))\n",
    "\n",
    "for i, j in enumerate([('XGBoost_Optimized', 'Optimized XGBoost'), \n",
    "                       ('MultiLayerPerceptron_Optimized', 'Optimized MultiLayer Perceptron')]):\n",
    "    name_model, name_title = j\n",
    "    plot_confusion_matrix(gridsearch_models[name_model].best_estimator_, name_title, X_test, y_test, axes, i)\n",
    "\n",
    "plt.tight_layout()\n",
    "plt.show()"
   ]
  },
  {
   "cell_type": "markdown",
   "id": "59df35cc",
   "metadata": {},
   "source": [
    "## Curva ROC\n",
    "---"
   ]
  },
  {
   "cell_type": "markdown",
   "id": "6e503db9",
   "metadata": {},
   "source": [
    "<p style='line-height: 2; text-align: justify; text-indent: 35px;'> A curva ROC é uma importante métrica para validar modelos de classificação binária. Isso porque ela mostra, graficamente, o quão bom o modelo é de diferenciar as duas classes. Quanto mais próxima a curva estiver do canto superior esquerdo, melhor é a capacidade do classificador de distinguir ambas as classes. Ou seja, melhor é a linha de separação entre as classes, implicando em um menor ocorrência de Falsos Positivos e Falsos Negativos. De forma análoga, quanto mais próxima a curva estiver do canto inferior direito, pior é essa habilidade de separação. </p>\n",
    "\n",
    "<p style='line-height: 2; text-align: justify; text-indent: 35px;'> Assim, ao analisar curvas ROC dos dois melhores modelos otimizados, o XGBoost e o MultiLayer Perceptron, nota-se que ambos os modelos distinguem bem as duas classes, fraude e não fraude. Novamente, analisando o eixo Y verifica-se que os modelos têm uma maior dificuldade na separação da classe positiva, como visto na matriz de confusão.</p>"
   ]
  },
  {
   "cell_type": "code",
   "execution_count": 41,
   "id": "decad512",
   "metadata": {},
   "outputs": [],
   "source": [
    "# Probabilidades\n",
    "r_probs = [0 for _ in range(len(y_test))]\n",
    "xgb_probs = gridsearch_models['XGBoost_Optimized'].best_estimator_.predict_proba(X_test)[::,1]\n",
    "mlp_probs = gridsearch_models['MultiLayerPerceptron_Optimized'].best_estimator_.predict_proba(X_test)[::,1]     "
   ]
  },
  {
   "cell_type": "code",
   "execution_count": 42,
   "id": "6bc5720e",
   "metadata": {},
   "outputs": [],
   "source": [
    "# Curva ROC\n",
    "r_fpr, r_tpr, _ = roc_curve(y_test, r_probs)\n",
    "xgb_fpr, xgb_tpr, _ = roc_curve(y_test, xgb_probs)\n",
    "mlp_fpr, mlp_tpr, _ = roc_curve(y_test, mlp_probs)"
   ]
  },
  {
   "cell_type": "code",
   "execution_count": 43,
   "id": "da67ba81",
   "metadata": {},
   "outputs": [],
   "source": [
    "# AUROC\n",
    "r_auc = roc_auc_score(y_test, r_probs)\n",
    "xgb_auc = roc_auc_score(y_test, xgb_probs)\n",
    "mlp_auc = roc_auc_score(y_test, mlp_probs)"
   ]
  },
  {
   "cell_type": "code",
   "execution_count": 44,
   "id": "163550af",
   "metadata": {},
   "outputs": [
    {
     "data": {
      "image/png": "[encoded data removed]",
      "text/plain": [
       "<Figure size 640x480 with 1 Axes>"
      ]
     },
     "metadata": {},
     "output_type": "display_data"
    }
   ],
   "source": [
    "plt.plot(r_fpr, r_tpr, linestyle='--', label='Random  Predict (AUROC = %0.3f)' % r_auc)\n",
    "plt.plot(xgb_fpr, xgb_tpr, marker='.', label='Optimized XGBoost Optimized (AUROC = %0.3f)' % xgb_auc)\n",
    "plt.plot(mlp_fpr, mlp_tpr, marker='.', label='Optimized MultiLayerPerceptron (AUROC = %0.3f)' % mlp_auc)\n",
    "plt.title('ROC Curve')\n",
    "plt.xlabel('False Positive Rate')\n",
    "plt.ylabel('True Positive Rate')\n",
    "plt.legend() \n",
    "plt.show()"
   ]
  },
  {
   "cell_type": "markdown",
   "id": "cff87b78",
   "metadata": {},
   "source": [
    "# <font color = 'black' style='font-size: 26px;'>Comparando os Resultados </font>  \n",
    "<hr style = 'border: 1.5px solid black;'>"
   ]
  },
  {
   "cell_type": "markdown",
   "id": "696eb95c",
   "metadata": {},
   "source": [
    "## Artigo [1]\n",
    "---"
   ]
  },
  {
   "cell_type": "markdown",
   "id": "2f4d16ef",
   "metadata": {},
   "source": [
    "<p style='line-height: 2; text-align: justify; text-indent: 35px;'>As metodologias utilizadas no artigo foram bem semelhantes às aplicadas nesse projeto. Em ambos, há a utilização do SMOTE como técnica de oversampling e o uso da validação cruzada. A única grande diferença está no particionamento dos dados e na escolhas dos hiperparâmetros dos modelos. O autor não separou parte dos dados somente para validação dos modelos.</p>\n",
    "\n",
    "<p style='line-height: 2; text-align: justify; text-indent: 35px;'>No artigo, os modelos foram avaliados com base na AUROC. A tabela abaixo apresenta os resultados publicados no artigo e os resultados dos melhores modelos desse projeto. Em suma, os modelos desenvolvidos neste projeto apresentam performance inferior aos modelos do autor, provavelmente em decorrência dos hiperparâmetros estabelecidos.</p>"
   ]
  },
  {
   "cell_type": "code",
   "execution_count": 45,
   "id": "fc911610",
   "metadata": {},
   "outputs": [
    {
     "data": {
      "text/html": [
       "<div>\n",
       "<style scoped>\n",
       "    .dataframe tbody tr th:only-of-type {\n",
       "        vertical-align: middle;\n",
       "    }\n",
       "\n",
       "    .dataframe tbody tr th {\n",
       "        vertical-align: top;\n",
       "    }\n",
       "\n",
       "    .dataframe thead th {\n",
       "        text-align: right;\n",
       "    }\n",
       "</style>\n",
       "<table border=\"1\" class=\"dataframe\">\n",
       "  <thead>\n",
       "    <tr style=\"text-align: right;\">\n",
       "      <th></th>\n",
       "      <th>Modelo</th>\n",
       "      <th>AUROC</th>\n",
       "      <th>Autor</th>\n",
       "    </tr>\n",
       "  </thead>\n",
       "  <tbody>\n",
       "    <tr>\n",
       "      <th>5</th>\n",
       "      <td>XGBoost</td>\n",
       "      <td>0.9894</td>\n",
       "      <td>Artigo1</td>\n",
       "    </tr>\n",
       "    <tr>\n",
       "      <th>4</th>\n",
       "      <td>RandomForest</td>\n",
       "      <td>0.9881</td>\n",
       "      <td>Artigo1</td>\n",
       "    </tr>\n",
       "    <tr>\n",
       "      <th>1</th>\n",
       "      <td>KNN</td>\n",
       "      <td>0.9784</td>\n",
       "      <td>Artigo1</td>\n",
       "    </tr>\n",
       "    <tr>\n",
       "      <th>2</th>\n",
       "      <td>SVC</td>\n",
       "      <td>0.9743</td>\n",
       "      <td>Artigo1</td>\n",
       "    </tr>\n",
       "    <tr>\n",
       "      <th>0</th>\n",
       "      <td>LogisticRegression</td>\n",
       "      <td>0.9692</td>\n",
       "      <td>Artigo1</td>\n",
       "    </tr>\n",
       "    <tr>\n",
       "      <th>3</th>\n",
       "      <td>DecisionTree</td>\n",
       "      <td>0.9542</td>\n",
       "      <td>Artigo1</td>\n",
       "    </tr>\n",
       "    <tr>\n",
       "      <th>6</th>\n",
       "      <td>XGBoost</td>\n",
       "      <td>0.9530</td>\n",
       "      <td>Eu</td>\n",
       "    </tr>\n",
       "    <tr>\n",
       "      <th>7</th>\n",
       "      <td>MultiLayerPerceptron</td>\n",
       "      <td>0.9320</td>\n",
       "      <td>Eu</td>\n",
       "    </tr>\n",
       "  </tbody>\n",
       "</table>\n",
       "</div>"
      ],
      "text/plain": [
       "                 Modelo   AUROC    Autor\n",
       "5               XGBoost  0.9894  Artigo1\n",
       "4          RandomForest  0.9881  Artigo1\n",
       "1                   KNN  0.9784  Artigo1\n",
       "2                   SVC  0.9743  Artigo1\n",
       "0    LogisticRegression  0.9692  Artigo1\n",
       "3          DecisionTree  0.9542  Artigo1\n",
       "6               XGBoost  0.9530       Eu\n",
       "7  MultiLayerPerceptron  0.9320       Eu"
      ]
     },
     "execution_count": 45,
     "metadata": {},
     "output_type": "execute_result"
    }
   ],
   "source": [
    "article_1 = pd.DataFrame()\n",
    "article_1['Modelo'] = ['LogisticRegression', 'KNN', 'SVC', 'DecisionTree', \n",
    "                       'RandomForest', 'XGBoost', 'XGBoost', 'MultiLayerPerceptron']\n",
    "article_1['AUROC'] = [0.9692, 0.9784, 0.9743, 0.9542, 0.9881, 0.9894, 0.953, 0.932]\n",
    "article_1['Autor'] = ['Artigo1','Artigo1','Artigo1','Artigo1','Artigo1','Artigo1', 'Eu', 'Eu']\n",
    "article_1.sort_values(by='AUROC', ascending=False).round(4)"
   ]
  },
  {
   "cell_type": "markdown",
   "id": "4f1e5348",
   "metadata": {},
   "source": [
    "## Artigo [2]\n",
    "---"
   ]
  },
  {
   "cell_type": "markdown",
   "id": "25c0dd28",
   "metadata": {},
   "source": [
    "<p style='line-height: 2; text-align: justify; text-indent: 35px;'>De forma análoga, também houve a utilização do SMOTE como técnica de oversampling neste segundo artigo. O autor também particionou os dados em treino e teste, seguindo a proporção 80:20, a mesma utilizada neste projeto. O que se diferenciou foi a utilização da abordagem hold-out durante o treinamento. No artigo, não foi detalhado sobre as escolhas dos hiperparâmetros de alguns modelos, impossibilitando compará-los com os deste projeto.</p>\n",
    "\n",
    "<p style='line-height: 2; text-align: justify; text-indent: 35px;'>As métricas utilizadas pelo autor para mensurar os modelos foram acurácia, precisão e recall. Os resultados obtidos foram semelhantes aos deste projeto. No entanto, os modelos Random Forest e MultiLayer Perceptron do autor se mostraram superiores. O melhor desses dois modelos, o Random Forest, exibiu uma precisão 22% maior e um recall 5% maior em comparação ao XGBoost desenvolvido.</p>"
   ]
  },
  {
   "cell_type": "code",
   "execution_count": 46,
   "id": "ffe1ac97",
   "metadata": {},
   "outputs": [
    {
     "data": {
      "text/html": [
       "<div>\n",
       "<style scoped>\n",
       "    .dataframe tbody tr th:only-of-type {\n",
       "        vertical-align: middle;\n",
       "    }\n",
       "\n",
       "    .dataframe tbody tr th {\n",
       "        vertical-align: top;\n",
       "    }\n",
       "\n",
       "    .dataframe thead th {\n",
       "        text-align: right;\n",
       "    }\n",
       "</style>\n",
       "<table border=\"1\" class=\"dataframe\">\n",
       "  <thead>\n",
       "    <tr style=\"text-align: right;\">\n",
       "      <th></th>\n",
       "      <th>Modelo</th>\n",
       "      <th>Precision</th>\n",
       "      <th>Recall</th>\n",
       "      <th>Accuracy</th>\n",
       "      <th>Autor</th>\n",
       "    </tr>\n",
       "  </thead>\n",
       "  <tbody>\n",
       "    <tr>\n",
       "      <th>2</th>\n",
       "      <td>RandomForest</td>\n",
       "      <td>0.9638</td>\n",
       "      <td>0.8163</td>\n",
       "      <td>0.9996</td>\n",
       "      <td>Artigo2</td>\n",
       "    </tr>\n",
       "    <tr>\n",
       "      <th>3</th>\n",
       "      <td>MultiLayerPerceptron</td>\n",
       "      <td>0.7921</td>\n",
       "      <td>0.8163</td>\n",
       "      <td>0.9993</td>\n",
       "      <td>Artigo2</td>\n",
       "    </tr>\n",
       "    <tr>\n",
       "      <th>4</th>\n",
       "      <td>XGBoost</td>\n",
       "      <td>0.7350</td>\n",
       "      <td>0.7580</td>\n",
       "      <td>0.9990</td>\n",
       "      <td>Eu</td>\n",
       "    </tr>\n",
       "    <tr>\n",
       "      <th>5</th>\n",
       "      <td>MultiLayerPerceptron</td>\n",
       "      <td>0.7580</td>\n",
       "      <td>0.7580</td>\n",
       "      <td>0.9990</td>\n",
       "      <td>Eu</td>\n",
       "    </tr>\n",
       "    <tr>\n",
       "      <th>1</th>\n",
       "      <td>NaiveBayes</td>\n",
       "      <td>0.1617</td>\n",
       "      <td>0.8265</td>\n",
       "      <td>0.9923</td>\n",
       "      <td>Artigo2</td>\n",
       "    </tr>\n",
       "    <tr>\n",
       "      <th>0</th>\n",
       "      <td>LogisticRegression</td>\n",
       "      <td>0.5882</td>\n",
       "      <td>0.9184</td>\n",
       "      <td>0.9746</td>\n",
       "      <td>Artigo2</td>\n",
       "    </tr>\n",
       "  </tbody>\n",
       "</table>\n",
       "</div>"
      ],
      "text/plain": [
       "                 Modelo  Precision  Recall  Accuracy    Autor\n",
       "2          RandomForest     0.9638  0.8163    0.9996  Artigo2\n",
       "3  MultiLayerPerceptron     0.7921  0.8163    0.9993  Artigo2\n",
       "4               XGBoost     0.7350  0.7580    0.9990       Eu\n",
       "5  MultiLayerPerceptron     0.7580  0.7580    0.9990       Eu\n",
       "1            NaiveBayes     0.1617  0.8265    0.9923  Artigo2\n",
       "0    LogisticRegression     0.5882  0.9184    0.9746  Artigo2"
      ]
     },
     "execution_count": 46,
     "metadata": {},
     "output_type": "execute_result"
    }
   ],
   "source": [
    "article_2 = pd.DataFrame()\n",
    "article_2['Modelo'] = ['LogisticRegression', 'NaiveBayes', 'RandomForest', \n",
    "                       'MultiLayerPerceptron', 'XGBoost', 'MultiLayerPerceptron']\n",
    "article_2['Precision'] = [0.5882, 0.1617, 0.9638, 0.7921, 0.735, 0.758]\n",
    "article_2['Recall'] = [0.9184, 0.8265, 0.8163, 0.8163, 0.758, 0.758]\n",
    "article_2['Accuracy'] = [0.9746, 0.9923, 0.9996, 0.9993, 0.999, 0.999]\n",
    "article_2['Autor'] = ['Artigo2','Artigo2','Artigo2','Artigo2', 'Eu', 'Eu']\n",
    "article_2.sort_values(by='Accuracy', ascending=False).round(4)"
   ]
  },
  {
   "cell_type": "markdown",
   "id": "87d12283",
   "metadata": {},
   "source": [
    "# <font color = 'black' style='font-size: 26px;'> Considerações Finais </font>  \n",
    "<hr style = 'border: 1.5px solid black;'>"
   ]
  },
  {
   "cell_type": "markdown",
   "id": "56a9b12c",
   "metadata": {},
   "source": [
    "<p style='line-height: 2; text-align: justify; text-indent: 35px;'>   O objetivo principal deste projeto era desenvolver modelos de detecção de fraudes de cartão de crédito utilizando uma base de dados extremamente desbalanceada. Dessa forma, seria possível aprender e ganhar experiência de como lidar com esse tipo de cenário. Conforme citado durante o projeto, a aplicação das técnicas de Oversampling requerem diversos cuidados, visando evitar um enviesamento no processo de validação (Data Leakage).\n",
    "No geral, os resultados foram satisfatórios considerando a minúscula quantidade de dados da classe fraude e a metodologia seguida ao longo do projeto foi a mais prudente possível. Embora as métricas obtidas não sejam superiores às dos artigos [1] e [2], os resultados foram similares. Em um cenário real, os modelos seriam capazes de cumprir o seu papel com êxito. \n",
    "</p>"
   ]
  },
  {
   "cell_type": "code",
   "execution_count": null,
   "id": "942fc38a",
   "metadata": {},
   "outputs": [],
   "source": []
  }
 ],
 "metadata": {
  "kernelspec": {
   "display_name": "Python 3 (ipykernel)",
   "language": "python",
   "name": "python3"
  },
  "language_info": {
   "codemirror_mode": {
    "name": "ipython",
    "version": 3
   },
   "file_extension": ".py",
   "mimetype": "text/x-python",
   "name": "python",
   "nbconvert_exporter": "python",
   "pygments_lexer": "ipython3",
   "version": "3.10.9"
  }
 },
 "nbformat": 4,
 "nbformat_minor": 5
}
